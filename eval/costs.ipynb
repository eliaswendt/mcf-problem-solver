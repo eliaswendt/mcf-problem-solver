{
 "cells": [
  {
   "cell_type": "code",
   "execution_count": 1,
   "id": "contrary-protest",
   "metadata": {},
   "outputs": [],
   "source": [
    "import pandas as pd\n",
    "import seaborn as sb\n",
    "import numpy as np"
   ]
  },
  {
   "cell_type": "code",
   "execution_count": 22,
   "id": "overhead-accommodation",
   "metadata": {},
   "outputs": [],
   "source": [
    "# select algorithm \n",
    "#path = \"simulated_annealing\"\n",
    "path = \"simulated_annealing_on_path\"\n",
    "#path = \"randomized_best\"\n",
    "#path = \"randomized_hillclimb\""
   ]
  },
  {
   "cell_type": "code",
   "execution_count": 23,
   "id": "numerical-poison",
   "metadata": {},
   "outputs": [
    {
     "data": {
      "text/html": [
       "<div>\n",
       "<style scoped>\n",
       "    .dataframe tbody tr th:only-of-type {\n",
       "        vertical-align: middle;\n",
       "    }\n",
       "\n",
       "    .dataframe tbody tr th {\n",
       "        vertical-align: top;\n",
       "    }\n",
       "\n",
       "    .dataframe thead th {\n",
       "        text-align: right;\n",
       "    }\n",
       "</style>\n",
       "<table border=\"1\" class=\"dataframe\">\n",
       "  <thead>\n",
       "    <tr style=\"text-align: right;\">\n",
       "      <th></th>\n",
       "      <th>group_id</th>\n",
       "      <th>planned_time</th>\n",
       "      <th>real_time</th>\n",
       "      <th>travel_cost</th>\n",
       "      <th>delay</th>\n",
       "      <th>delay_in_%</th>\n",
       "      <th>waiting_time</th>\n",
       "      <th>in_trip_time</th>\n",
       "      <th>walks</th>\n",
       "      <th>path</th>\n",
       "    </tr>\n",
       "  </thead>\n",
       "  <tbody>\n",
       "    <tr>\n",
       "      <th>0</th>\n",
       "      <td>1052</td>\n",
       "      <td>221</td>\n",
       "      <td>281</td>\n",
       "      <td>57</td>\n",
       "      <td>60</td>\n",
       "      <td>27</td>\n",
       "      <td>13</td>\n",
       "      <td>199</td>\n",
       "      <td>0</td>\n",
       "      <td>Davos Monstein$7843$Departure-&gt;40846$5$Trip-&gt;D...</td>\n",
       "    </tr>\n",
       "    <tr>\n",
       "      <th>1</th>\n",
       "      <td>1051</td>\n",
       "      <td>221</td>\n",
       "      <td>281</td>\n",
       "      <td>57</td>\n",
       "      <td>60</td>\n",
       "      <td>27</td>\n",
       "      <td>13</td>\n",
       "      <td>199</td>\n",
       "      <td>0</td>\n",
       "      <td>Davos Monstein$7843$Departure-&gt;40846$5$Trip-&gt;D...</td>\n",
       "    </tr>\n",
       "    <tr>\n",
       "      <th>2</th>\n",
       "      <td>1053</td>\n",
       "      <td>169</td>\n",
       "      <td>169</td>\n",
       "      <td>47</td>\n",
       "      <td>0</td>\n",
       "      <td>0</td>\n",
       "      <td>6</td>\n",
       "      <td>118</td>\n",
       "      <td>2</td>\n",
       "      <td>München ZOB (Hackerbrücke)$7861$Arrival-&gt;$12$W...</td>\n",
       "    </tr>\n",
       "    <tr>\n",
       "      <th>3</th>\n",
       "      <td>1054</td>\n",
       "      <td>169</td>\n",
       "      <td>169</td>\n",
       "      <td>47</td>\n",
       "      <td>0</td>\n",
       "      <td>0</td>\n",
       "      <td>6</td>\n",
       "      <td>118</td>\n",
       "      <td>2</td>\n",
       "      <td>München ZOB (Hackerbrücke)$7861$Arrival-&gt;$12$W...</td>\n",
       "    </tr>\n",
       "    <tr>\n",
       "      <th>4</th>\n",
       "      <td>1049</td>\n",
       "      <td>169</td>\n",
       "      <td>169</td>\n",
       "      <td>48</td>\n",
       "      <td>0</td>\n",
       "      <td>0</td>\n",
       "      <td>0</td>\n",
       "      <td>117</td>\n",
       "      <td>2</td>\n",
       "      <td>München ZOB (Hackerbrücke)$7861$Arrival-&gt;$12$W...</td>\n",
       "    </tr>\n",
       "    <tr>\n",
       "      <th>...</th>\n",
       "      <td>...</td>\n",
       "      <td>...</td>\n",
       "      <td>...</td>\n",
       "      <td>...</td>\n",
       "      <td>...</td>\n",
       "      <td>...</td>\n",
       "      <td>...</td>\n",
       "      <td>...</td>\n",
       "      <td>...</td>\n",
       "      <td>...</td>\n",
       "    </tr>\n",
       "    <tr>\n",
       "      <th>1047</th>\n",
       "      <td>2</td>\n",
       "      <td>86</td>\n",
       "      <td>146</td>\n",
       "      <td>38</td>\n",
       "      <td>60</td>\n",
       "      <td>69</td>\n",
       "      <td>12</td>\n",
       "      <td>94</td>\n",
       "      <td>0</td>\n",
       "      <td>Duisburg Hbf$7733$Arrival-&gt;137653$37$Trip-&gt;Dor...</td>\n",
       "    </tr>\n",
       "    <tr>\n",
       "      <th>1048</th>\n",
       "      <td>1</td>\n",
       "      <td>2</td>\n",
       "      <td>64</td>\n",
       "      <td>26</td>\n",
       "      <td>62</td>\n",
       "      <td>3100</td>\n",
       "      <td>12</td>\n",
       "      <td>33</td>\n",
       "      <td>1</td>\n",
       "      <td>München Hbf$7746$Arrival-&gt;$14$Walk-&gt;München Hb...</td>\n",
       "    </tr>\n",
       "    <tr>\n",
       "      <th>1049</th>\n",
       "      <td>12</td>\n",
       "      <td>239</td>\n",
       "      <td>360</td>\n",
       "      <td>53</td>\n",
       "      <td>121</td>\n",
       "      <td>50</td>\n",
       "      <td>4</td>\n",
       "      <td>272</td>\n",
       "      <td>1</td>\n",
       "      <td>München Leuchtenbergring$7920$Departure-&gt;10678...</td>\n",
       "    </tr>\n",
       "    <tr>\n",
       "      <th>1050</th>\n",
       "      <td>7</td>\n",
       "      <td>169</td>\n",
       "      <td>169</td>\n",
       "      <td>47</td>\n",
       "      <td>0</td>\n",
       "      <td>0</td>\n",
       "      <td>5</td>\n",
       "      <td>118</td>\n",
       "      <td>2</td>\n",
       "      <td>München ZOB (Hackerbrücke)$7861$Arrival-&gt;$12$W...</td>\n",
       "    </tr>\n",
       "    <tr>\n",
       "      <th>1051</th>\n",
       "      <td>4</td>\n",
       "      <td>169</td>\n",
       "      <td>169</td>\n",
       "      <td>48</td>\n",
       "      <td>0</td>\n",
       "      <td>0</td>\n",
       "      <td>0</td>\n",
       "      <td>117</td>\n",
       "      <td>2</td>\n",
       "      <td>München ZOB (Hackerbrücke)$7861$Arrival-&gt;$12$W...</td>\n",
       "    </tr>\n",
       "  </tbody>\n",
       "</table>\n",
       "<p>1052 rows × 10 columns</p>\n",
       "</div>"
      ],
      "text/plain": [
       "      group_id  planned_time  real_time  travel_cost  delay  delay_in_%  \\\n",
       "0         1052           221        281           57     60          27   \n",
       "1         1051           221        281           57     60          27   \n",
       "2         1053           169        169           47      0           0   \n",
       "3         1054           169        169           47      0           0   \n",
       "4         1049           169        169           48      0           0   \n",
       "...        ...           ...        ...          ...    ...         ...   \n",
       "1047         2            86        146           38     60          69   \n",
       "1048         1             2         64           26     62        3100   \n",
       "1049        12           239        360           53    121          50   \n",
       "1050         7           169        169           47      0           0   \n",
       "1051         4           169        169           48      0           0   \n",
       "\n",
       "      waiting_time  in_trip_time  walks  \\\n",
       "0               13           199      0   \n",
       "1               13           199      0   \n",
       "2                6           118      2   \n",
       "3                6           118      2   \n",
       "4                0           117      2   \n",
       "...            ...           ...    ...   \n",
       "1047            12            94      0   \n",
       "1048            12            33      1   \n",
       "1049             4           272      1   \n",
       "1050             5           118      2   \n",
       "1051             0           117      2   \n",
       "\n",
       "                                                   path  \n",
       "0     Davos Monstein$7843$Departure->40846$5$Trip->D...  \n",
       "1     Davos Monstein$7843$Departure->40846$5$Trip->D...  \n",
       "2     München ZOB (Hackerbrücke)$7861$Arrival->$12$W...  \n",
       "3     München ZOB (Hackerbrücke)$7861$Arrival->$12$W...  \n",
       "4     München ZOB (Hackerbrücke)$7861$Arrival->$12$W...  \n",
       "...                                                 ...  \n",
       "1047  Duisburg Hbf$7733$Arrival->137653$37$Trip->Dor...  \n",
       "1048  München Hbf$7746$Arrival->$14$Walk->München Hb...  \n",
       "1049  München Leuchtenbergring$7920$Departure->10678...  \n",
       "1050  München ZOB (Hackerbrücke)$7861$Arrival->$12$W...  \n",
       "1051  München ZOB (Hackerbrücke)$7861$Arrival->$12$W...  \n",
       "\n",
       "[1052 rows x 10 columns]"
      ]
     },
     "execution_count": 23,
     "metadata": {},
     "output_type": "execute_result"
    }
   ],
   "source": [
    "df = pd.read_csv(path + \"_groups.csv\", sep=\"|\")\n",
    "df"
   ]
  },
  {
   "cell_type": "code",
   "execution_count": 24,
   "id": "floppy-pittsburgh",
   "metadata": {},
   "outputs": [
    {
     "data": {
      "text/plain": [
       "'München ZOB (Hackerbrücke)$7861$Arrival->$12$Walk->München Hackerbrücke$7879$Departure->107348$8$Trip->München-Pasing$7887$Arrival->München-Pasing$7894$Departure->184$7$Trip->München Hbf Gl.27-36$7901$Arrival->$14$Walk->München Hbf$7915$Departure->138117$84$Trip->Erlangen$7999$Arrival->Erlangen$8007$Departure->108419$8$Trip->Forchheim(Oberfr)$8015$Arrival->Forchheim(Oberfr)$8019$Departure->140333$11$Trip->Kirchehrenbach$8030$Arrival'"
      ]
     },
     "execution_count": 24,
     "metadata": {},
     "output_type": "execute_result"
    }
   ],
   "source": [
    "df[df[\"group_id\"] == 1054][\"path\"].iloc[0]"
   ]
  },
  {
   "cell_type": "markdown",
   "id": "certified-billion",
   "metadata": {},
   "source": [
    "# Calculate different delay cost metrics"
   ]
  },
  {
   "cell_type": "code",
   "execution_count": 4,
   "id": "allied-therapist",
   "metadata": {},
   "outputs": [
    {
     "name": "stdout",
     "output_type": "stream",
     "text": [
      "Total delay: 59315 min = 988.5833333333334 h\n",
      "Average delay: 56.383079847908746 min = 0.9397179974651457 h\n",
      "Median delay: 20.0 min = 0.3333333333333333 h\n",
      "\n",
      "###########################\n",
      "\n",
      "Min delay: -239 min = -3.9833333333333334 h:\n"
     ]
    },
    {
     "data": {
      "text/html": [
       "<div>\n",
       "<style scoped>\n",
       "    .dataframe tbody tr th:only-of-type {\n",
       "        vertical-align: middle;\n",
       "    }\n",
       "\n",
       "    .dataframe tbody tr th {\n",
       "        vertical-align: top;\n",
       "    }\n",
       "\n",
       "    .dataframe thead th {\n",
       "        text-align: right;\n",
       "    }\n",
       "</style>\n",
       "<table border=\"1\" class=\"dataframe\">\n",
       "  <thead>\n",
       "    <tr style=\"text-align: right;\">\n",
       "      <th></th>\n",
       "      <th>group_id</th>\n",
       "      <th>planned_time</th>\n",
       "      <th>real_time</th>\n",
       "      <th>travel_cost</th>\n",
       "      <th>delay</th>\n",
       "      <th>delay_in_%</th>\n",
       "      <th>waiting_time</th>\n",
       "      <th>in_trip_time</th>\n",
       "      <th>walks</th>\n",
       "      <th>path</th>\n",
       "    </tr>\n",
       "  </thead>\n",
       "  <tbody>\n",
       "    <tr>\n",
       "      <th>640</th>\n",
       "      <td>412</td>\n",
       "      <td>320</td>\n",
       "      <td>81</td>\n",
       "      <td>34</td>\n",
       "      <td>-239</td>\n",
       "      <td>-74</td>\n",
       "      <td>22</td>\n",
       "      <td>35</td>\n",
       "      <td>0</td>\n",
       "      <td>München Hbf.7714.Departure-&gt;75222.8.Trip-&gt;Münc...</td>\n",
       "    </tr>\n",
       "  </tbody>\n",
       "</table>\n",
       "</div>"
      ],
      "text/plain": [
       "     group_id  planned_time  real_time  travel_cost  delay  delay_in_%  \\\n",
       "640       412           320         81           34   -239         -74   \n",
       "\n",
       "     waiting_time  in_trip_time  walks  \\\n",
       "640            22            35      0   \n",
       "\n",
       "                                                  path  \n",
       "640  München Hbf.7714.Departure->75222.8.Trip->Münc...  "
      ]
     },
     "metadata": {},
     "output_type": "display_data"
    },
    {
     "name": "stdout",
     "output_type": "stream",
     "text": [
      "München Hbf.7714.Departure->75222.8.Trip->München Ost.7722.Arrival->München Ost.7742.Departure->107586.27.Trip->Ottenhofen(Oberbay).7769.Arrival\n",
      "\n",
      "###########################\n",
      "\n",
      "Max delay: 1388 min = 23.133333333333333 h:\n"
     ]
    },
    {
     "data": {
      "text/html": [
       "<div>\n",
       "<style scoped>\n",
       "    .dataframe tbody tr th:only-of-type {\n",
       "        vertical-align: middle;\n",
       "    }\n",
       "\n",
       "    .dataframe tbody tr th {\n",
       "        vertical-align: top;\n",
       "    }\n",
       "\n",
       "    .dataframe thead th {\n",
       "        text-align: right;\n",
       "    }\n",
       "</style>\n",
       "<table border=\"1\" class=\"dataframe\">\n",
       "  <thead>\n",
       "    <tr style=\"text-align: right;\">\n",
       "      <th></th>\n",
       "      <th>group_id</th>\n",
       "      <th>planned_time</th>\n",
       "      <th>real_time</th>\n",
       "      <th>travel_cost</th>\n",
       "      <th>delay</th>\n",
       "      <th>delay_in_%</th>\n",
       "      <th>waiting_time</th>\n",
       "      <th>in_trip_time</th>\n",
       "      <th>walks</th>\n",
       "      <th>path</th>\n",
       "    </tr>\n",
       "  </thead>\n",
       "  <tbody>\n",
       "    <tr>\n",
       "      <th>748</th>\n",
       "      <td>302</td>\n",
       "      <td>620</td>\n",
       "      <td>2008</td>\n",
       "      <td>60</td>\n",
       "      <td>1388</td>\n",
       "      <td>223</td>\n",
       "      <td>11</td>\n",
       "      <td>896</td>\n",
       "      <td>2</td>\n",
       "      <td>Ceska Lipa - Holy vrch.7772.Departure-&gt;139864....</td>\n",
       "    </tr>\n",
       "  </tbody>\n",
       "</table>\n",
       "</div>"
      ],
      "text/plain": [
       "     group_id  planned_time  real_time  travel_cost  delay  delay_in_%  \\\n",
       "748       302           620       2008           60   1388         223   \n",
       "\n",
       "     waiting_time  in_trip_time  walks  \\\n",
       "748            11           896      2   \n",
       "\n",
       "                                                  path  \n",
       "748  Ceska Lipa - Holy vrch.7772.Departure->139864....  "
      ]
     },
     "metadata": {},
     "output_type": "display_data"
    },
    {
     "name": "stdout",
     "output_type": "stream",
     "text": [
      "Ceska Lipa - Holy vrch.7772.Departure->139864.38.Trip->Decin hl.n..7810.Arrival->Decin hl.n..7826.Departure->139751.102.Trip->Praha hl.n..7928.Arrival->Praha hl.n..7953.Departure->2098.252.Trip->Regensburg Hbf.8205.Arrival->.935.Walk->Regensburg Bahnhofstraße (Fernbushalt).9140.Departure->137154.69.Trip->Waidhaus(Gr).9209.Arrival->Waidhaus(Gr).9310.Departure->137174.310.Trip->Mannheim Hbf (Busbahnhof).9620.Arrival->.10.Walk->Mannheim Hbf.9632.Departure->137436.36.Trip->Frankfurt(Main)Hbf.9668.Arrival->Frankfurt(Main)Hbf.9681.Departure->99880.58.Trip->Marburg(Lahn).9739.Arrival->Marburg(Lahn).9749.Departure->104867.31.Trip->Ernsthausen.9780.Arrival\n",
      "\n",
      "###########################\n",
      "\n",
      "Average % delay: 48.89543726235741 %\n",
      "Median % delay: 10.0 %\n",
      "Min % delay: -74 %\n",
      "Max % delay: 3100 %\n"
     ]
    }
   ],
   "source": [
    "print(\"Total delay:\", df[\"delay\"].sum(), \"min\", \"=\", df[\"delay\"].sum()/60, \"h\")\n",
    "print(\"Average delay:\", np.mean(df[\"delay\"]), \"min\", \"=\", np.mean(df[\"delay\"])/60, \"h\")\n",
    "print(\"Median delay:\", np.median(df[\"delay\"]), \"min\", \"=\", np.median(df[\"delay\"])/60, \"h\")\n",
    "print(\"\\n###########################\\n\")\n",
    "print(\"Min delay:\", df[\"delay\"].min(), \"min\", \"=\", df[\"delay\"].min()/60, \"h:\")\n",
    "display(df[df[\"delay\"] == df[\"delay\"].min()])\n",
    "path_ = df[df[\"delay\"] == df[\"delay\"].min()][\"path\"].iloc[0]\n",
    "print(path_)\n",
    "print(\"\\n###########################\\n\")\n",
    "print(\"Max delay:\", df[\"delay\"].max(), \"min\", \"=\", df[\"delay\"].max()/60, \"h:\")\n",
    "display(df[df[\"delay\"] == df[\"delay\"].max()])\n",
    "path_ = df[df[\"delay\"] == df[\"delay\"].max()][\"path\"].iloc[0]\n",
    "print(path_)\n",
    "print(\"\\n###########################\\n\")\n",
    "print(\"Average % delay:\", np.mean(df[\"delay_in_%\"]), \"%\")\n",
    "print(\"Median % delay:\", np.median(df[\"delay_in_%\"]), \"%\")\n",
    "print(\"Min % delay:\", df[\"delay_in_%\"].min(), \"%\")\n",
    "print(\"Max % delay:\", df[\"delay_in_%\"].max(), \"%\")"
   ]
  },
  {
   "cell_type": "code",
   "execution_count": 5,
   "id": "foster-consent",
   "metadata": {},
   "outputs": [
    {
     "data": {
      "text/plain": [
       "<AxesSubplot:xlabel='delay_in_%', ylabel='Count'>"
      ]
     },
     "execution_count": 5,
     "metadata": {},
     "output_type": "execute_result"
    },
    {
     "data": {
      "image/png": "[encoded data removed]",
      "text/plain": [
       "<Figure size 432x288 with 1 Axes>"
      ]
     },
     "metadata": {
      "needs_background": "light"
     },
     "output_type": "display_data"
    }
   ],
   "source": [
    "sb.histplot(df, x=\"delay_in_%\", bins=range(1, df[\"delay_in_%\"].max()+1, 5))"
   ]
  },
  {
   "cell_type": "code",
   "execution_count": 6,
   "id": "paperback-authority",
   "metadata": {},
   "outputs": [
    {
     "data": {
      "text/plain": [
       "<AxesSubplot:xlabel='delay_in_%', ylabel='Count'>"
      ]
     },
     "execution_count": 6,
     "metadata": {},
     "output_type": "execute_result"
    },
    {
     "data": {
      "image/png": "[encoded data removed]",
      "text/plain": [
       "<Figure size 432x288 with 1 Axes>"
      ]
     },
     "metadata": {
      "needs_background": "light"
     },
     "output_type": "display_data"
    }
   ],
   "source": [
    "sb.histplot(df, x=\"delay_in_%\", bins=range(1, sorted(df[\"delay_in_%\"])[-10]+1, 5))"
   ]
  },
  {
   "cell_type": "markdown",
   "id": "average-springer",
   "metadata": {},
   "source": [
    "# Calculate different travel cost metrics"
   ]
  },
  {
   "cell_type": "code",
   "execution_count": 7,
   "id": "fixed-truck",
   "metadata": {},
   "outputs": [
    {
     "name": "stdout",
     "output_type": "stream",
     "text": [
      "Total travel cost: 46593\n",
      "Average travel cost: 44.289923954372625\n",
      "Median travel cost: 40.0\n",
      "Min travel cost: 1\n",
      "Max travel cost: 178\n"
     ]
    }
   ],
   "source": [
    "print(\"Total travel cost:\", df[\"travel_cost\"].sum())\n",
    "print(\"Average travel cost:\", np.mean(df[\"travel_cost\"]))\n",
    "print(\"Median travel cost:\", np.median(df[\"travel_cost\"]))\n",
    "print(\"Min travel cost:\", df[\"travel_cost\"].min())\n",
    "print(\"Max travel cost:\", df[\"travel_cost\"].max())"
   ]
  },
  {
   "cell_type": "code",
   "execution_count": 8,
   "id": "sublime-listing",
   "metadata": {},
   "outputs": [
    {
     "name": "stdout",
     "output_type": "stream",
     "text": [
      "Total number of walks: 880\n",
      "Average number of walks: 0.8365019011406845\n",
      "Median number of walks: 1.0\n",
      "Min number of walks: 0\n",
      "Max number of walks: 4\n"
     ]
    }
   ],
   "source": [
    "print(\"Total number of walks:\", df[\"walks\"].sum())\n",
    "print(\"Average number of walks:\", np.mean(df[\"walks\"]))\n",
    "print(\"Median number of walks:\", np.median(df[\"walks\"]))\n",
    "print(\"Min number of walks:\", df[\"walks\"].min())\n",
    "print(\"Max number of walks:\", df[\"walks\"].max())"
   ]
  },
  {
   "cell_type": "code",
   "execution_count": 9,
   "id": "spare-dispute",
   "metadata": {},
   "outputs": [
    {
     "name": "stdout",
     "output_type": "stream",
     "text": [
      "Total waiting time: 13424\n",
      "Average waiting time: 12.760456273764259\n",
      "Median waiting time: 8.0\n",
      "Min waiting time: 0\n",
      "Max waiting time: 144\n"
     ]
    }
   ],
   "source": [
    "print(\"Total waiting time:\", df[\"waiting_time\"].sum())\n",
    "print(\"Average waiting time:\", np.mean(df[\"waiting_time\"]))\n",
    "print(\"Median waiting time:\", np.median(df[\"waiting_time\"]))\n",
    "print(\"Min waiting time:\", df[\"waiting_time\"].min())\n",
    "print(\"Max waiting time:\", df[\"waiting_time\"].max())"
   ]
  },
  {
   "cell_type": "code",
   "execution_count": 10,
   "id": "boolean-january",
   "metadata": {},
   "outputs": [
    {
     "name": "stdout",
     "output_type": "stream",
     "text": [
      "Total time in train: 227781\n",
      "Average time in train: 216.5218631178707\n",
      "Median time in train: 179.0\n",
      "Min time in train: 2\n",
      "Max time in train: 896\n"
     ]
    }
   ],
   "source": [
    "print(\"Total time in train:\", df[\"in_trip_time\"].sum())\n",
    "print(\"Average time in train:\", np.mean(df[\"in_trip_time\"]))\n",
    "print(\"Median time in train:\", np.median(df[\"in_trip_time\"]))\n",
    "print(\"Min time in train:\", df[\"in_trip_time\"].min())\n",
    "print(\"Max time in train:\", df[\"in_trip_time\"].max())"
   ]
  },
  {
   "cell_type": "markdown",
   "id": "aging-torture",
   "metadata": {},
   "source": [
    "# Calculate different edge cost metrics"
   ]
  },
  {
   "cell_type": "code",
   "execution_count": 11,
   "id": "apart-miracle",
   "metadata": {},
   "outputs": [
    {
     "data": {
      "text/html": [
       "<div>\n",
       "<style scoped>\n",
       "    .dataframe tbody tr th:only-of-type {\n",
       "        vertical-align: middle;\n",
       "    }\n",
       "\n",
       "    .dataframe tbody tr th {\n",
       "        vertical-align: top;\n",
       "    }\n",
       "\n",
       "    .dataframe thead th {\n",
       "        text-align: right;\n",
       "    }\n",
       "</style>\n",
       "<table border=\"1\" class=\"dataframe\">\n",
       "  <thead>\n",
       "    <tr style=\"text-align: right;\">\n",
       "      <th></th>\n",
       "      <th>edge_index</th>\n",
       "      <th>duration</th>\n",
       "      <th>capacity</th>\n",
       "      <th>utilization</th>\n",
       "    </tr>\n",
       "  </thead>\n",
       "  <tbody>\n",
       "    <tr>\n",
       "      <th>0</th>\n",
       "      <td>EdgeIndex(3391671)</td>\n",
       "      <td>39</td>\n",
       "      <td>113</td>\n",
       "      <td>2</td>\n",
       "    </tr>\n",
       "    <tr>\n",
       "      <th>1</th>\n",
       "      <td>EdgeIndex(2219371)</td>\n",
       "      <td>6</td>\n",
       "      <td>131</td>\n",
       "      <td>27</td>\n",
       "    </tr>\n",
       "    <tr>\n",
       "      <th>2</th>\n",
       "      <td>EdgeIndex(2575873)</td>\n",
       "      <td>1</td>\n",
       "      <td>263</td>\n",
       "      <td>1</td>\n",
       "    </tr>\n",
       "    <tr>\n",
       "      <th>3</th>\n",
       "      <td>EdgeIndex(3395635)</td>\n",
       "      <td>44</td>\n",
       "      <td>591</td>\n",
       "      <td>9</td>\n",
       "    </tr>\n",
       "    <tr>\n",
       "      <th>4</th>\n",
       "      <td>EdgeIndex(2864073)</td>\n",
       "      <td>5</td>\n",
       "      <td>147</td>\n",
       "      <td>1</td>\n",
       "    </tr>\n",
       "    <tr>\n",
       "      <th>...</th>\n",
       "      <td>...</td>\n",
       "      <td>...</td>\n",
       "      <td>...</td>\n",
       "      <td>...</td>\n",
       "    </tr>\n",
       "    <tr>\n",
       "      <th>2796</th>\n",
       "      <td>EdgeIndex(2446611)</td>\n",
       "      <td>3</td>\n",
       "      <td>273</td>\n",
       "      <td>44</td>\n",
       "    </tr>\n",
       "    <tr>\n",
       "      <th>2797</th>\n",
       "      <td>EdgeIndex(3411943)</td>\n",
       "      <td>20</td>\n",
       "      <td>0</td>\n",
       "      <td>5</td>\n",
       "    </tr>\n",
       "    <tr>\n",
       "      <th>2798</th>\n",
       "      <td>EdgeIndex(3400783)</td>\n",
       "      <td>7</td>\n",
       "      <td>344</td>\n",
       "      <td>6</td>\n",
       "    </tr>\n",
       "    <tr>\n",
       "      <th>2799</th>\n",
       "      <td>EdgeIndex(2586921)</td>\n",
       "      <td>1</td>\n",
       "      <td>238</td>\n",
       "      <td>14</td>\n",
       "    </tr>\n",
       "    <tr>\n",
       "      <th>2800</th>\n",
       "      <td>EdgeIndex(2657519)</td>\n",
       "      <td>5</td>\n",
       "      <td>171</td>\n",
       "      <td>45</td>\n",
       "    </tr>\n",
       "  </tbody>\n",
       "</table>\n",
       "<p>2801 rows × 4 columns</p>\n",
       "</div>"
      ],
      "text/plain": [
       "              edge_index  duration  capacity  utilization\n",
       "0     EdgeIndex(3391671)        39       113            2\n",
       "1     EdgeIndex(2219371)         6       131           27\n",
       "2     EdgeIndex(2575873)         1       263            1\n",
       "3     EdgeIndex(3395635)        44       591            9\n",
       "4     EdgeIndex(2864073)         5       147            1\n",
       "...                  ...       ...       ...          ...\n",
       "2796  EdgeIndex(2446611)         3       273           44\n",
       "2797  EdgeIndex(3411943)        20         0            5\n",
       "2798  EdgeIndex(3400783)         7       344            6\n",
       "2799  EdgeIndex(2586921)         1       238           14\n",
       "2800  EdgeIndex(2657519)         5       171           45\n",
       "\n",
       "[2801 rows x 4 columns]"
      ]
     },
     "execution_count": 11,
     "metadata": {},
     "output_type": "execute_result"
    }
   ],
   "source": [
    "df = pd.read_csv(path + \"_edges.csv\", sep=\"|\")\n",
    "df"
   ]
  },
  {
   "cell_type": "code",
   "execution_count": 12,
   "id": "boring-absorption",
   "metadata": {},
   "outputs": [
    {
     "name": "stdout",
     "output_type": "stream",
     "text": [
      "Number of strained trip edges: 2801\n",
      "Number of strained trip edges with utilization > capacity: 155\n",
      "Total overload (only edges with utilization > capacity): 2701\n",
      "Average overload (only edges with utilization > capacity): 17.425806451612903\n",
      "Median overload (only edges with utilization > capacity): 6.0\n",
      "Max overload of one edge: 102\n"
     ]
    },
    {
     "data": {
      "text/html": [
       "<div>\n",
       "<style scoped>\n",
       "    .dataframe tbody tr th:only-of-type {\n",
       "        vertical-align: middle;\n",
       "    }\n",
       "\n",
       "    .dataframe tbody tr th {\n",
       "        vertical-align: top;\n",
       "    }\n",
       "\n",
       "    .dataframe thead th {\n",
       "        text-align: right;\n",
       "    }\n",
       "</style>\n",
       "<table border=\"1\" class=\"dataframe\">\n",
       "  <thead>\n",
       "    <tr style=\"text-align: right;\">\n",
       "      <th></th>\n",
       "      <th>edge_index</th>\n",
       "      <th>duration</th>\n",
       "      <th>capacity</th>\n",
       "      <th>utilization</th>\n",
       "      <th>overload</th>\n",
       "    </tr>\n",
       "  </thead>\n",
       "  <tbody>\n",
       "    <tr>\n",
       "      <th>83</th>\n",
       "      <td>EdgeIndex(3412187)</td>\n",
       "      <td>33</td>\n",
       "      <td>1</td>\n",
       "      <td>17</td>\n",
       "      <td>16</td>\n",
       "    </tr>\n",
       "    <tr>\n",
       "      <th>98</th>\n",
       "      <td>EdgeIndex(1749539)</td>\n",
       "      <td>8</td>\n",
       "      <td>27</td>\n",
       "      <td>33</td>\n",
       "      <td>6</td>\n",
       "    </tr>\n",
       "    <tr>\n",
       "      <th>123</th>\n",
       "      <td>EdgeIndex(3411421)</td>\n",
       "      <td>13</td>\n",
       "      <td>0</td>\n",
       "      <td>1</td>\n",
       "      <td>1</td>\n",
       "    </tr>\n",
       "    <tr>\n",
       "      <th>127</th>\n",
       "      <td>EdgeIndex(1734191)</td>\n",
       "      <td>22</td>\n",
       "      <td>0</td>\n",
       "      <td>6</td>\n",
       "      <td>6</td>\n",
       "    </tr>\n",
       "    <tr>\n",
       "      <th>180</th>\n",
       "      <td>EdgeIndex(3411939)</td>\n",
       "      <td>33</td>\n",
       "      <td>0</td>\n",
       "      <td>5</td>\n",
       "      <td>5</td>\n",
       "    </tr>\n",
       "    <tr>\n",
       "      <th>...</th>\n",
       "      <td>...</td>\n",
       "      <td>...</td>\n",
       "      <td>...</td>\n",
       "      <td>...</td>\n",
       "      <td>...</td>\n",
       "    </tr>\n",
       "    <tr>\n",
       "      <th>2745</th>\n",
       "      <td>EdgeIndex(3322493)</td>\n",
       "      <td>6</td>\n",
       "      <td>2</td>\n",
       "      <td>4</td>\n",
       "      <td>2</td>\n",
       "    </tr>\n",
       "    <tr>\n",
       "      <th>2754</th>\n",
       "      <td>EdgeIndex(1262603)</td>\n",
       "      <td>12</td>\n",
       "      <td>0</td>\n",
       "      <td>10</td>\n",
       "      <td>10</td>\n",
       "    </tr>\n",
       "    <tr>\n",
       "      <th>2759</th>\n",
       "      <td>EdgeIndex(3390069)</td>\n",
       "      <td>4</td>\n",
       "      <td>0</td>\n",
       "      <td>33</td>\n",
       "      <td>33</td>\n",
       "    </tr>\n",
       "    <tr>\n",
       "      <th>2768</th>\n",
       "      <td>EdgeIndex(3390669)</td>\n",
       "      <td>3</td>\n",
       "      <td>0</td>\n",
       "      <td>23</td>\n",
       "      <td>23</td>\n",
       "    </tr>\n",
       "    <tr>\n",
       "      <th>2797</th>\n",
       "      <td>EdgeIndex(3411943)</td>\n",
       "      <td>20</td>\n",
       "      <td>0</td>\n",
       "      <td>5</td>\n",
       "      <td>5</td>\n",
       "    </tr>\n",
       "  </tbody>\n",
       "</table>\n",
       "<p>155 rows × 5 columns</p>\n",
       "</div>"
      ],
      "text/plain": [
       "              edge_index  duration  capacity  utilization  overload\n",
       "83    EdgeIndex(3412187)        33         1           17        16\n",
       "98    EdgeIndex(1749539)         8        27           33         6\n",
       "123   EdgeIndex(3411421)        13         0            1         1\n",
       "127   EdgeIndex(1734191)        22         0            6         6\n",
       "180   EdgeIndex(3411939)        33         0            5         5\n",
       "...                  ...       ...       ...          ...       ...\n",
       "2745  EdgeIndex(3322493)         6         2            4         2\n",
       "2754  EdgeIndex(1262603)        12         0           10        10\n",
       "2759  EdgeIndex(3390069)         4         0           33        33\n",
       "2768  EdgeIndex(3390669)         3         0           23        23\n",
       "2797  EdgeIndex(3411943)        20         0            5         5\n",
       "\n",
       "[155 rows x 5 columns]"
      ]
     },
     "execution_count": 12,
     "metadata": {},
     "output_type": "execute_result"
    }
   ],
   "source": [
    "print(\"Number of strained trip edges:\", len(df))\n",
    "df_filtered = df[df['capacity'] < df['utilization']].loc[:]\n",
    "print(\"Number of strained trip edges with utilization > capacity:\", len(df_filtered))\n",
    "df_filtered[\"overload\"] = df_filtered[\"utilization\"]-df_filtered[\"capacity\"]\n",
    "print(\"Total overload (only edges with utilization > capacity):\", df_filtered[\"overload\"].sum())\n",
    "print(\"Average overload (only edges with utilization > capacity):\", np.mean(df_filtered[\"overload\"]))\n",
    "print(\"Median overload (only edges with utilization > capacity):\", np.median(df_filtered[\"overload\"]))\n",
    "print(\"Max overload of one edge:\", df_filtered[\"overload\"].max())\n",
    "df_filtered"
   ]
  },
  {
   "cell_type": "code",
   "execution_count": 13,
   "id": "limiting-programming",
   "metadata": {},
   "outputs": [
    {
     "data": {
      "text/plain": [
       "<AxesSubplot:xlabel='overload', ylabel='Count'>"
      ]
     },
     "execution_count": 13,
     "metadata": {},
     "output_type": "execute_result"
    },
    {
     "data": {
      "image/png": "[encoded data removed]",
      "text/plain": [
       "<Figure size 432x288 with 1 Axes>"
      ]
     },
     "metadata": {
      "needs_background": "light"
     },
     "output_type": "display_data"
    }
   ],
   "source": [
    "sb.histplot(df_filtered, x=\"overload\", bins=range(1, df_filtered[\"overload\"].max()+1))"
   ]
  },
  {
   "cell_type": "markdown",
   "id": "minor-edition",
   "metadata": {},
   "source": [
    "# Cost Quantile"
   ]
  },
  {
   "cell_type": "code",
   "execution_count": 14,
   "id": "veterinary-million",
   "metadata": {},
   "outputs": [
    {
     "ename": "FileNotFoundError",
     "evalue": "[Errno 2] No such file or directory: 'randomized_hillclimb_100_runs.csv'",
     "output_type": "error",
     "traceback": [
      "\u001b[0;31m---------------------------------------------------------------------------\u001b[0m",
      "\u001b[0;31mFileNotFoundError\u001b[0m                         Traceback (most recent call last)",
      "\u001b[0;32m<ipython-input-14-ca145e5ddbd9>\u001b[0m in \u001b[0;36m<module>\u001b[0;34m\u001b[0m\n\u001b[0;32m----> 1\u001b[0;31m \u001b[0mdf\u001b[0m \u001b[0;34m=\u001b[0m \u001b[0mpd\u001b[0m\u001b[0;34m.\u001b[0m\u001b[0mread_csv\u001b[0m\u001b[0;34m(\u001b[0m\u001b[0mpath\u001b[0m \u001b[0;34m+\u001b[0m \u001b[0;34m\"_100_runs.csv\"\u001b[0m\u001b[0;34m)\u001b[0m\u001b[0;34m\u001b[0m\u001b[0;34m\u001b[0m\u001b[0m\n\u001b[0m\u001b[1;32m      2\u001b[0m \u001b[0mdf\u001b[0m\u001b[0;34m\u001b[0m\u001b[0;34m\u001b[0m\u001b[0m\n",
      "\u001b[0;32m/data/git/praktikum-algorithmik/eval/venv/lib/python3.9/site-packages/pandas/io/parsers.py\u001b[0m in \u001b[0;36mread_csv\u001b[0;34m(filepath_or_buffer, sep, delimiter, header, names, index_col, usecols, squeeze, prefix, mangle_dupe_cols, dtype, engine, converters, true_values, false_values, skipinitialspace, skiprows, skipfooter, nrows, na_values, keep_default_na, na_filter, verbose, skip_blank_lines, parse_dates, infer_datetime_format, keep_date_col, date_parser, dayfirst, cache_dates, iterator, chunksize, compression, thousands, decimal, lineterminator, quotechar, quoting, doublequote, escapechar, comment, encoding, dialect, error_bad_lines, warn_bad_lines, delim_whitespace, low_memory, memory_map, float_precision, storage_options)\u001b[0m\n\u001b[1;32m    608\u001b[0m     \u001b[0mkwds\u001b[0m\u001b[0;34m.\u001b[0m\u001b[0mupdate\u001b[0m\u001b[0;34m(\u001b[0m\u001b[0mkwds_defaults\u001b[0m\u001b[0;34m)\u001b[0m\u001b[0;34m\u001b[0m\u001b[0;34m\u001b[0m\u001b[0m\n\u001b[1;32m    609\u001b[0m \u001b[0;34m\u001b[0m\u001b[0m\n\u001b[0;32m--> 610\u001b[0;31m     \u001b[0;32mreturn\u001b[0m \u001b[0m_read\u001b[0m\u001b[0;34m(\u001b[0m\u001b[0mfilepath_or_buffer\u001b[0m\u001b[0;34m,\u001b[0m \u001b[0mkwds\u001b[0m\u001b[0;34m)\u001b[0m\u001b[0;34m\u001b[0m\u001b[0;34m\u001b[0m\u001b[0m\n\u001b[0m\u001b[1;32m    611\u001b[0m \u001b[0;34m\u001b[0m\u001b[0m\n\u001b[1;32m    612\u001b[0m \u001b[0;34m\u001b[0m\u001b[0m\n",
      "\u001b[0;32m/data/git/praktikum-algorithmik/eval/venv/lib/python3.9/site-packages/pandas/io/parsers.py\u001b[0m in \u001b[0;36m_read\u001b[0;34m(filepath_or_buffer, kwds)\u001b[0m\n\u001b[1;32m    460\u001b[0m \u001b[0;34m\u001b[0m\u001b[0m\n\u001b[1;32m    461\u001b[0m     \u001b[0;31m# Create the parser.\u001b[0m\u001b[0;34m\u001b[0m\u001b[0;34m\u001b[0m\u001b[0;34m\u001b[0m\u001b[0m\n\u001b[0;32m--> 462\u001b[0;31m     \u001b[0mparser\u001b[0m \u001b[0;34m=\u001b[0m \u001b[0mTextFileReader\u001b[0m\u001b[0;34m(\u001b[0m\u001b[0mfilepath_or_buffer\u001b[0m\u001b[0;34m,\u001b[0m \u001b[0;34m**\u001b[0m\u001b[0mkwds\u001b[0m\u001b[0;34m)\u001b[0m\u001b[0;34m\u001b[0m\u001b[0;34m\u001b[0m\u001b[0m\n\u001b[0m\u001b[1;32m    463\u001b[0m \u001b[0;34m\u001b[0m\u001b[0m\n\u001b[1;32m    464\u001b[0m     \u001b[0;32mif\u001b[0m \u001b[0mchunksize\u001b[0m \u001b[0;32mor\u001b[0m \u001b[0miterator\u001b[0m\u001b[0;34m:\u001b[0m\u001b[0;34m\u001b[0m\u001b[0;34m\u001b[0m\u001b[0m\n",
      "\u001b[0;32m/data/git/praktikum-algorithmik/eval/venv/lib/python3.9/site-packages/pandas/io/parsers.py\u001b[0m in \u001b[0;36m__init__\u001b[0;34m(self, f, engine, **kwds)\u001b[0m\n\u001b[1;32m    817\u001b[0m             \u001b[0mself\u001b[0m\u001b[0;34m.\u001b[0m\u001b[0moptions\u001b[0m\u001b[0;34m[\u001b[0m\u001b[0;34m\"has_index_names\"\u001b[0m\u001b[0;34m]\u001b[0m \u001b[0;34m=\u001b[0m \u001b[0mkwds\u001b[0m\u001b[0;34m[\u001b[0m\u001b[0;34m\"has_index_names\"\u001b[0m\u001b[0;34m]\u001b[0m\u001b[0;34m\u001b[0m\u001b[0;34m\u001b[0m\u001b[0m\n\u001b[1;32m    818\u001b[0m \u001b[0;34m\u001b[0m\u001b[0m\n\u001b[0;32m--> 819\u001b[0;31m         \u001b[0mself\u001b[0m\u001b[0;34m.\u001b[0m\u001b[0m_engine\u001b[0m \u001b[0;34m=\u001b[0m \u001b[0mself\u001b[0m\u001b[0;34m.\u001b[0m\u001b[0m_make_engine\u001b[0m\u001b[0;34m(\u001b[0m\u001b[0mself\u001b[0m\u001b[0;34m.\u001b[0m\u001b[0mengine\u001b[0m\u001b[0;34m)\u001b[0m\u001b[0;34m\u001b[0m\u001b[0;34m\u001b[0m\u001b[0m\n\u001b[0m\u001b[1;32m    820\u001b[0m \u001b[0;34m\u001b[0m\u001b[0m\n\u001b[1;32m    821\u001b[0m     \u001b[0;32mdef\u001b[0m \u001b[0mclose\u001b[0m\u001b[0;34m(\u001b[0m\u001b[0mself\u001b[0m\u001b[0;34m)\u001b[0m\u001b[0;34m:\u001b[0m\u001b[0;34m\u001b[0m\u001b[0;34m\u001b[0m\u001b[0m\n",
      "\u001b[0;32m/data/git/praktikum-algorithmik/eval/venv/lib/python3.9/site-packages/pandas/io/parsers.py\u001b[0m in \u001b[0;36m_make_engine\u001b[0;34m(self, engine)\u001b[0m\n\u001b[1;32m   1048\u001b[0m             )\n\u001b[1;32m   1049\u001b[0m         \u001b[0;31m# error: Too many arguments for \"ParserBase\"\u001b[0m\u001b[0;34m\u001b[0m\u001b[0;34m\u001b[0m\u001b[0;34m\u001b[0m\u001b[0m\n\u001b[0;32m-> 1050\u001b[0;31m         \u001b[0;32mreturn\u001b[0m \u001b[0mmapping\u001b[0m\u001b[0;34m[\u001b[0m\u001b[0mengine\u001b[0m\u001b[0;34m]\u001b[0m\u001b[0;34m(\u001b[0m\u001b[0mself\u001b[0m\u001b[0;34m.\u001b[0m\u001b[0mf\u001b[0m\u001b[0;34m,\u001b[0m \u001b[0;34m**\u001b[0m\u001b[0mself\u001b[0m\u001b[0;34m.\u001b[0m\u001b[0moptions\u001b[0m\u001b[0;34m)\u001b[0m  \u001b[0;31m# type: ignore[call-arg]\u001b[0m\u001b[0;34m\u001b[0m\u001b[0;34m\u001b[0m\u001b[0m\n\u001b[0m\u001b[1;32m   1051\u001b[0m \u001b[0;34m\u001b[0m\u001b[0m\n\u001b[1;32m   1052\u001b[0m     \u001b[0;32mdef\u001b[0m \u001b[0m_failover_to_python\u001b[0m\u001b[0;34m(\u001b[0m\u001b[0mself\u001b[0m\u001b[0;34m)\u001b[0m\u001b[0;34m:\u001b[0m\u001b[0;34m\u001b[0m\u001b[0;34m\u001b[0m\u001b[0m\n",
      "\u001b[0;32m/data/git/praktikum-algorithmik/eval/venv/lib/python3.9/site-packages/pandas/io/parsers.py\u001b[0m in \u001b[0;36m__init__\u001b[0;34m(self, src, **kwds)\u001b[0m\n\u001b[1;32m   1865\u001b[0m \u001b[0;34m\u001b[0m\u001b[0m\n\u001b[1;32m   1866\u001b[0m         \u001b[0;31m# open handles\u001b[0m\u001b[0;34m\u001b[0m\u001b[0;34m\u001b[0m\u001b[0;34m\u001b[0m\u001b[0m\n\u001b[0;32m-> 1867\u001b[0;31m         \u001b[0mself\u001b[0m\u001b[0;34m.\u001b[0m\u001b[0m_open_handles\u001b[0m\u001b[0;34m(\u001b[0m\u001b[0msrc\u001b[0m\u001b[0;34m,\u001b[0m \u001b[0mkwds\u001b[0m\u001b[0;34m)\u001b[0m\u001b[0;34m\u001b[0m\u001b[0;34m\u001b[0m\u001b[0m\n\u001b[0m\u001b[1;32m   1868\u001b[0m         \u001b[0;32massert\u001b[0m \u001b[0mself\u001b[0m\u001b[0;34m.\u001b[0m\u001b[0mhandles\u001b[0m \u001b[0;32mis\u001b[0m \u001b[0;32mnot\u001b[0m \u001b[0;32mNone\u001b[0m\u001b[0;34m\u001b[0m\u001b[0;34m\u001b[0m\u001b[0m\n\u001b[1;32m   1869\u001b[0m         \u001b[0;32mfor\u001b[0m \u001b[0mkey\u001b[0m \u001b[0;32min\u001b[0m \u001b[0;34m(\u001b[0m\u001b[0;34m\"storage_options\"\u001b[0m\u001b[0;34m,\u001b[0m \u001b[0;34m\"encoding\"\u001b[0m\u001b[0;34m,\u001b[0m \u001b[0;34m\"memory_map\"\u001b[0m\u001b[0;34m,\u001b[0m \u001b[0;34m\"compression\"\u001b[0m\u001b[0;34m)\u001b[0m\u001b[0;34m:\u001b[0m\u001b[0;34m\u001b[0m\u001b[0;34m\u001b[0m\u001b[0m\n",
      "\u001b[0;32m/data/git/praktikum-algorithmik/eval/venv/lib/python3.9/site-packages/pandas/io/parsers.py\u001b[0m in \u001b[0;36m_open_handles\u001b[0;34m(self, src, kwds)\u001b[0m\n\u001b[1;32m   1360\u001b[0m         \u001b[0mLet\u001b[0m \u001b[0mthe\u001b[0m \u001b[0mreaders\u001b[0m \u001b[0mopen\u001b[0m \u001b[0mIOHanldes\u001b[0m \u001b[0mafter\u001b[0m \u001b[0mthey\u001b[0m \u001b[0mare\u001b[0m \u001b[0mdone\u001b[0m \u001b[0;32mwith\u001b[0m \u001b[0mtheir\u001b[0m \u001b[0mpotential\u001b[0m \u001b[0mraises\u001b[0m\u001b[0;34m.\u001b[0m\u001b[0;34m\u001b[0m\u001b[0;34m\u001b[0m\u001b[0m\n\u001b[1;32m   1361\u001b[0m         \"\"\"\n\u001b[0;32m-> 1362\u001b[0;31m         self.handles = get_handle(\n\u001b[0m\u001b[1;32m   1363\u001b[0m             \u001b[0msrc\u001b[0m\u001b[0;34m,\u001b[0m\u001b[0;34m\u001b[0m\u001b[0;34m\u001b[0m\u001b[0m\n\u001b[1;32m   1364\u001b[0m             \u001b[0;34m\"r\"\u001b[0m\u001b[0;34m,\u001b[0m\u001b[0;34m\u001b[0m\u001b[0;34m\u001b[0m\u001b[0m\n",
      "\u001b[0;32m/data/git/praktikum-algorithmik/eval/venv/lib/python3.9/site-packages/pandas/io/common.py\u001b[0m in \u001b[0;36mget_handle\u001b[0;34m(path_or_buf, mode, encoding, compression, memory_map, is_text, errors, storage_options)\u001b[0m\n\u001b[1;32m    640\u001b[0m                 \u001b[0merrors\u001b[0m \u001b[0;34m=\u001b[0m \u001b[0;34m\"replace\"\u001b[0m\u001b[0;34m\u001b[0m\u001b[0;34m\u001b[0m\u001b[0m\n\u001b[1;32m    641\u001b[0m             \u001b[0;31m# Encoding\u001b[0m\u001b[0;34m\u001b[0m\u001b[0;34m\u001b[0m\u001b[0;34m\u001b[0m\u001b[0m\n\u001b[0;32m--> 642\u001b[0;31m             handle = open(\n\u001b[0m\u001b[1;32m    643\u001b[0m                 \u001b[0mhandle\u001b[0m\u001b[0;34m,\u001b[0m\u001b[0;34m\u001b[0m\u001b[0;34m\u001b[0m\u001b[0m\n\u001b[1;32m    644\u001b[0m                 \u001b[0mioargs\u001b[0m\u001b[0;34m.\u001b[0m\u001b[0mmode\u001b[0m\u001b[0;34m,\u001b[0m\u001b[0;34m\u001b[0m\u001b[0;34m\u001b[0m\u001b[0m\n",
      "\u001b[0;31mFileNotFoundError\u001b[0m: [Errno 2] No such file or directory: 'randomized_hillclimb_100_runs.csv'"
     ]
    }
   ],
   "source": [
    "df = pd.read_csv(path + \"_100_runs.csv\")\n",
    "df"
   ]
  },
  {
   "cell_type": "code",
   "execution_count": null,
   "id": "economic-twist",
   "metadata": {},
   "outputs": [],
   "source": [
    "df.quantile([0.25, 0.5, 0.75])"
   ]
  },
  {
   "cell_type": "code",
   "execution_count": null,
   "id": "assured-dayton",
   "metadata": {},
   "outputs": [],
   "source": [
    "sb.histplot(df, x=\"cost\", bins=range(df['cost'].min(), df['cost'].max() + 1000, 1000))"
   ]
  },
  {
   "cell_type": "code",
   "execution_count": null,
   "id": "exposed-acoustic",
   "metadata": {},
   "outputs": [],
   "source": [
    "# Anmerkung\n",
    "# Anfang Box: unteres quartil (0.25 Quantil)\n",
    "# Ende Box: oberes quartil (0.75 Quantil)\n",
    "# Strich in Box: Median\n",
    "sb.boxplot(x=df[\"cost\"])"
   ]
  },
  {
   "cell_type": "code",
   "execution_count": null,
   "id": "genetic-original",
   "metadata": {},
   "outputs": [],
   "source": [
    "sb.histplot(df, x=\"edge_cost\", bins=range(df['edge_cost'].min(), df['edge_cost'].max() + 1000, 1000))"
   ]
  },
  {
   "cell_type": "code",
   "execution_count": null,
   "id": "healthy-native",
   "metadata": {},
   "outputs": [],
   "source": [
    "sb.boxplot(x=df[\"edge_cost\"])"
   ]
  },
  {
   "cell_type": "code",
   "execution_count": null,
   "id": "geographic-mauritius",
   "metadata": {},
   "outputs": [],
   "source": [
    "sb.histplot(df, x=\"travel_cost\", bins=range(df['travel_cost'].min(), df['travel_cost'].max() + 100, 100))"
   ]
  },
  {
   "cell_type": "code",
   "execution_count": null,
   "id": "sonic-police",
   "metadata": {},
   "outputs": [],
   "source": [
    "sb.boxplot(x=df[\"travel_cost\"])"
   ]
  },
  {
   "cell_type": "code",
   "execution_count": null,
   "id": "careful-orlando",
   "metadata": {},
   "outputs": [],
   "source": [
    "sb.histplot(df, x=\"delay_cost\", bins=range(df['delay_cost'].min(), df['delay_cost'].max() + 1000, 1000))"
   ]
  },
  {
   "cell_type": "code",
   "execution_count": null,
   "id": "covered-talent",
   "metadata": {},
   "outputs": [],
   "source": [
    "sb.boxplot(x=df[\"delay_cost\"])"
   ]
  },
  {
   "cell_type": "code",
   "execution_count": null,
   "id": "young-navigator",
   "metadata": {},
   "outputs": [],
   "source": []
  }
 ],
 "metadata": {
  "kernelspec": {
   "display_name": "Python 3",
   "language": "python",
   "name": "python3"
  },
  "language_info": {
   "codemirror_mode": {
    "name": "ipython",
    "version": 3
   },
   "file_extension": ".py",
   "mimetype": "text/x-python",
   "name": "python",
   "nbconvert_exporter": "python",
   "pygments_lexer": "ipython3",
   "version": "3.9.2"
  }
 },
 "nbformat": 4,
 "nbformat_minor": 5
}
