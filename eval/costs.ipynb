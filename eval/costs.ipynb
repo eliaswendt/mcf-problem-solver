{
 "cells": [
  {
   "cell_type": "code",
   "execution_count": 2,
   "id": "contrary-protest",
   "metadata": {},
   "outputs": [],
   "source": [
    "import pandas as pd\n",
    "import seaborn as sb\n",
    "import numpy as np"
   ]
  },
  {
   "cell_type": "code",
   "execution_count": 4,
   "id": "overhead-accommodation",
   "metadata": {},
   "outputs": [],
   "source": [
    "# select algorithm \n",
    "#path = \"simulated_annealing\"\n",
    "path = \"simulated_annealing_on_path\"\n",
    "#path = \"randomized_best\"\n",
    "#path = \"randomized_hillclimb\""
   ]
  },
  {
   "cell_type": "code",
   "execution_count": 31,
   "id": "numerical-poison",
   "metadata": {},
   "outputs": [
    {
     "data": {
      "text/html": [
       "<div>\n",
       "<style scoped>\n",
       "    .dataframe tbody tr th:only-of-type {\n",
       "        vertical-align: middle;\n",
       "    }\n",
       "\n",
       "    .dataframe tbody tr th {\n",
       "        vertical-align: top;\n",
       "    }\n",
       "\n",
       "    .dataframe thead th {\n",
       "        text-align: right;\n",
       "    }\n",
       "</style>\n",
       "<table border=\"1\" class=\"dataframe\">\n",
       "  <thead>\n",
       "    <tr style=\"text-align: right;\">\n",
       "      <th></th>\n",
       "      <th>group_id</th>\n",
       "      <th>planned_time</th>\n",
       "      <th>real_time</th>\n",
       "      <th>travel_cost</th>\n",
       "      <th>delay</th>\n",
       "      <th>delay_in_%</th>\n",
       "      <th>waiting_time</th>\n",
       "      <th>in_trip_time</th>\n",
       "      <th>walks</th>\n",
       "      <th>path</th>\n",
       "    </tr>\n",
       "  </thead>\n",
       "  <tbody>\n",
       "    <tr>\n",
       "      <th>0</th>\n",
       "      <td>1052</td>\n",
       "      <td>221</td>\n",
       "      <td>281</td>\n",
       "      <td>57</td>\n",
       "      <td>60</td>\n",
       "      <td>27</td>\n",
       "      <td>13</td>\n",
       "      <td>199</td>\n",
       "      <td>0</td>\n",
       "      <td>Davos Monstein.7843.Departure-&gt;40846.5.Trip-&gt;D...</td>\n",
       "    </tr>\n",
       "    <tr>\n",
       "      <th>1</th>\n",
       "      <td>1051</td>\n",
       "      <td>221</td>\n",
       "      <td>281</td>\n",
       "      <td>57</td>\n",
       "      <td>60</td>\n",
       "      <td>27</td>\n",
       "      <td>13</td>\n",
       "      <td>199</td>\n",
       "      <td>0</td>\n",
       "      <td>Davos Monstein.7843.Departure-&gt;40846.5.Trip-&gt;D...</td>\n",
       "    </tr>\n",
       "    <tr>\n",
       "      <th>2</th>\n",
       "      <td>1053</td>\n",
       "      <td>169</td>\n",
       "      <td>169</td>\n",
       "      <td>47</td>\n",
       "      <td>0</td>\n",
       "      <td>0</td>\n",
       "      <td>6</td>\n",
       "      <td>118</td>\n",
       "      <td>2</td>\n",
       "      <td>München ZOB (Hackerbrücke).7861.Arrival-&gt;.12.W...</td>\n",
       "    </tr>\n",
       "    <tr>\n",
       "      <th>3</th>\n",
       "      <td>1054</td>\n",
       "      <td>169</td>\n",
       "      <td>169</td>\n",
       "      <td>47</td>\n",
       "      <td>0</td>\n",
       "      <td>0</td>\n",
       "      <td>6</td>\n",
       "      <td>118</td>\n",
       "      <td>2</td>\n",
       "      <td>München ZOB (Hackerbrücke).7861.Arrival-&gt;.12.W...</td>\n",
       "    </tr>\n",
       "    <tr>\n",
       "      <th>4</th>\n",
       "      <td>1049</td>\n",
       "      <td>169</td>\n",
       "      <td>169</td>\n",
       "      <td>50</td>\n",
       "      <td>0</td>\n",
       "      <td>0</td>\n",
       "      <td>2</td>\n",
       "      <td>117</td>\n",
       "      <td>2</td>\n",
       "      <td>München ZOB (Hackerbrücke).7861.Arrival-&gt;.12.W...</td>\n",
       "    </tr>\n",
       "    <tr>\n",
       "      <th>...</th>\n",
       "      <td>...</td>\n",
       "      <td>...</td>\n",
       "      <td>...</td>\n",
       "      <td>...</td>\n",
       "      <td>...</td>\n",
       "      <td>...</td>\n",
       "      <td>...</td>\n",
       "      <td>...</td>\n",
       "      <td>...</td>\n",
       "      <td>...</td>\n",
       "    </tr>\n",
       "    <tr>\n",
       "      <th>1047</th>\n",
       "      <td>2</td>\n",
       "      <td>86</td>\n",
       "      <td>146</td>\n",
       "      <td>38</td>\n",
       "      <td>60</td>\n",
       "      <td>69</td>\n",
       "      <td>12</td>\n",
       "      <td>94</td>\n",
       "      <td>0</td>\n",
       "      <td>Duisburg Hbf.7733.Arrival-&gt;137653.37.Trip-&gt;Dor...</td>\n",
       "    </tr>\n",
       "    <tr>\n",
       "      <th>1048</th>\n",
       "      <td>1</td>\n",
       "      <td>2</td>\n",
       "      <td>64</td>\n",
       "      <td>26</td>\n",
       "      <td>62</td>\n",
       "      <td>3100</td>\n",
       "      <td>12</td>\n",
       "      <td>33</td>\n",
       "      <td>1</td>\n",
       "      <td>München Hbf.7746.Arrival-&gt;.14.Walk-&gt;München Hb...</td>\n",
       "    </tr>\n",
       "    <tr>\n",
       "      <th>1049</th>\n",
       "      <td>12</td>\n",
       "      <td>239</td>\n",
       "      <td>360</td>\n",
       "      <td>49</td>\n",
       "      <td>121</td>\n",
       "      <td>50</td>\n",
       "      <td>9</td>\n",
       "      <td>291</td>\n",
       "      <td>1</td>\n",
       "      <td>München Leuchtenbergring.7920.Departure-&gt;10678...</td>\n",
       "    </tr>\n",
       "    <tr>\n",
       "      <th>1050</th>\n",
       "      <td>7</td>\n",
       "      <td>169</td>\n",
       "      <td>169</td>\n",
       "      <td>47</td>\n",
       "      <td>0</td>\n",
       "      <td>0</td>\n",
       "      <td>5</td>\n",
       "      <td>118</td>\n",
       "      <td>2</td>\n",
       "      <td>München ZOB (Hackerbrücke).7861.Arrival-&gt;.12.W...</td>\n",
       "    </tr>\n",
       "    <tr>\n",
       "      <th>1051</th>\n",
       "      <td>4</td>\n",
       "      <td>169</td>\n",
       "      <td>169</td>\n",
       "      <td>47</td>\n",
       "      <td>0</td>\n",
       "      <td>0</td>\n",
       "      <td>5</td>\n",
       "      <td>118</td>\n",
       "      <td>2</td>\n",
       "      <td>München ZOB (Hackerbrücke).7861.Arrival-&gt;.12.W...</td>\n",
       "    </tr>\n",
       "  </tbody>\n",
       "</table>\n",
       "<p>1052 rows × 10 columns</p>\n",
       "</div>"
      ],
      "text/plain": [
       "      group_id  planned_time  real_time  travel_cost  delay  delay_in_%  \\\n",
       "0         1052           221        281           57     60          27   \n",
       "1         1051           221        281           57     60          27   \n",
       "2         1053           169        169           47      0           0   \n",
       "3         1054           169        169           47      0           0   \n",
       "4         1049           169        169           50      0           0   \n",
       "...        ...           ...        ...          ...    ...         ...   \n",
       "1047         2            86        146           38     60          69   \n",
       "1048         1             2         64           26     62        3100   \n",
       "1049        12           239        360           49    121          50   \n",
       "1050         7           169        169           47      0           0   \n",
       "1051         4           169        169           47      0           0   \n",
       "\n",
       "      waiting_time  in_trip_time  walks  \\\n",
       "0               13           199      0   \n",
       "1               13           199      0   \n",
       "2                6           118      2   \n",
       "3                6           118      2   \n",
       "4                2           117      2   \n",
       "...            ...           ...    ...   \n",
       "1047            12            94      0   \n",
       "1048            12            33      1   \n",
       "1049             9           291      1   \n",
       "1050             5           118      2   \n",
       "1051             5           118      2   \n",
       "\n",
       "                                                   path  \n",
       "0     Davos Monstein.7843.Departure->40846.5.Trip->D...  \n",
       "1     Davos Monstein.7843.Departure->40846.5.Trip->D...  \n",
       "2     München ZOB (Hackerbrücke).7861.Arrival->.12.W...  \n",
       "3     München ZOB (Hackerbrücke).7861.Arrival->.12.W...  \n",
       "4     München ZOB (Hackerbrücke).7861.Arrival->.12.W...  \n",
       "...                                                 ...  \n",
       "1047  Duisburg Hbf.7733.Arrival->137653.37.Trip->Dor...  \n",
       "1048  München Hbf.7746.Arrival->.14.Walk->München Hb...  \n",
       "1049  München Leuchtenbergring.7920.Departure->10678...  \n",
       "1050  München ZOB (Hackerbrücke).7861.Arrival->.12.W...  \n",
       "1051  München ZOB (Hackerbrücke).7861.Arrival->.12.W...  \n",
       "\n",
       "[1052 rows x 10 columns]"
      ]
     },
     "execution_count": 31,
     "metadata": {},
     "output_type": "execute_result"
    }
   ],
   "source": [
    "df = pd.read_csv(path + \"_groups.csv\", sep=\"|\")\n",
    "df"
   ]
  },
  {
   "cell_type": "markdown",
   "id": "certified-billion",
   "metadata": {},
   "source": [
    "# Calculate different delay cost metrics"
   ]
  },
  {
   "cell_type": "code",
   "execution_count": 32,
   "id": "allied-therapist",
   "metadata": {},
   "outputs": [
    {
     "name": "stdout",
     "output_type": "stream",
     "text": [
      "Total delay: 44200 min = 736.6666666666666 h\n",
      "Average delay: 42.01520912547529 min = 0.7002534854245881 h\n",
      "Median delay: 29.5 min = 0.49166666666666664 h\n",
      "\n",
      "###########################\n",
      "\n",
      "Min delay: -239 min = -3.9833333333333334 h:\n"
     ]
    },
    {
     "data": {
      "text/html": [
       "<div>\n",
       "<style scoped>\n",
       "    .dataframe tbody tr th:only-of-type {\n",
       "        vertical-align: middle;\n",
       "    }\n",
       "\n",
       "    .dataframe tbody tr th {\n",
       "        vertical-align: top;\n",
       "    }\n",
       "\n",
       "    .dataframe thead th {\n",
       "        text-align: right;\n",
       "    }\n",
       "</style>\n",
       "<table border=\"1\" class=\"dataframe\">\n",
       "  <thead>\n",
       "    <tr style=\"text-align: right;\">\n",
       "      <th></th>\n",
       "      <th>group_id</th>\n",
       "      <th>planned_time</th>\n",
       "      <th>real_time</th>\n",
       "      <th>travel_cost</th>\n",
       "      <th>delay</th>\n",
       "      <th>delay_in_%</th>\n",
       "      <th>waiting_time</th>\n",
       "      <th>in_trip_time</th>\n",
       "      <th>walks</th>\n",
       "      <th>path</th>\n",
       "    </tr>\n",
       "  </thead>\n",
       "  <tbody>\n",
       "    <tr>\n",
       "      <th>640</th>\n",
       "      <td>412</td>\n",
       "      <td>320</td>\n",
       "      <td>81</td>\n",
       "      <td>34</td>\n",
       "      <td>-239</td>\n",
       "      <td>-74</td>\n",
       "      <td>22</td>\n",
       "      <td>35</td>\n",
       "      <td>0</td>\n",
       "      <td>München Hbf.7714.Departure-&gt;75222.8.Trip-&gt;Münc...</td>\n",
       "    </tr>\n",
       "  </tbody>\n",
       "</table>\n",
       "</div>"
      ],
      "text/plain": [
       "     group_id  planned_time  real_time  travel_cost  delay  delay_in_%  \\\n",
       "640       412           320         81           34   -239         -74   \n",
       "\n",
       "     waiting_time  in_trip_time  walks  \\\n",
       "640            22            35      0   \n",
       "\n",
       "                                                  path  \n",
       "640  München Hbf.7714.Departure->75222.8.Trip->Münc...  "
      ]
     },
     "metadata": {},
     "output_type": "display_data"
    },
    {
     "name": "stdout",
     "output_type": "stream",
     "text": [
      "München Hbf.7714.Departure->75222.8.Trip->München Ost.7722.Arrival->München Ost.7742.Departure->107586.27.Trip->Ottenhofen(Oberbay).7769.Arrival\n",
      "\n",
      "###########################\n",
      "\n",
      "Max delay: 1268 min = 21.133333333333333 h:\n"
     ]
    },
    {
     "data": {
      "text/html": [
       "<div>\n",
       "<style scoped>\n",
       "    .dataframe tbody tr th:only-of-type {\n",
       "        vertical-align: middle;\n",
       "    }\n",
       "\n",
       "    .dataframe tbody tr th {\n",
       "        vertical-align: top;\n",
       "    }\n",
       "\n",
       "    .dataframe thead th {\n",
       "        text-align: right;\n",
       "    }\n",
       "</style>\n",
       "<table border=\"1\" class=\"dataframe\">\n",
       "  <thead>\n",
       "    <tr style=\"text-align: right;\">\n",
       "      <th></th>\n",
       "      <th>group_id</th>\n",
       "      <th>planned_time</th>\n",
       "      <th>real_time</th>\n",
       "      <th>travel_cost</th>\n",
       "      <th>delay</th>\n",
       "      <th>delay_in_%</th>\n",
       "      <th>waiting_time</th>\n",
       "      <th>in_trip_time</th>\n",
       "      <th>walks</th>\n",
       "      <th>path</th>\n",
       "    </tr>\n",
       "  </thead>\n",
       "  <tbody>\n",
       "    <tr>\n",
       "      <th>748</th>\n",
       "      <td>302</td>\n",
       "      <td>620</td>\n",
       "      <td>1888</td>\n",
       "      <td>70</td>\n",
       "      <td>1268</td>\n",
       "      <td>204</td>\n",
       "      <td>20</td>\n",
       "      <td>763</td>\n",
       "      <td>2</td>\n",
       "      <td>Ceska Lipa - Holy vrch.7772.Departure-&gt;139864....</td>\n",
       "    </tr>\n",
       "  </tbody>\n",
       "</table>\n",
       "</div>"
      ],
      "text/plain": [
       "     group_id  planned_time  real_time  travel_cost  delay  delay_in_%  \\\n",
       "748       302           620       1888           70   1268         204   \n",
       "\n",
       "     waiting_time  in_trip_time  walks  \\\n",
       "748            20           763      2   \n",
       "\n",
       "                                                  path  \n",
       "748  Ceska Lipa - Holy vrch.7772.Departure->139864....  "
      ]
     },
     "metadata": {},
     "output_type": "display_data"
    },
    {
     "name": "stdout",
     "output_type": "stream",
     "text": [
      "Ceska Lipa - Holy vrch.7772.Departure->139864.38.Trip->Decin hl.n..7810.Arrival->Decin hl.n..7826.Departure->139751.102.Trip->Praha hl.n..7928.Arrival->Praha hl.n..7953.Departure->2098.252.Trip->Regensburg Hbf.8205.Arrival->.935.Walk->Regensburg Bahnhofstraße (Fernbushalt).9140.Departure->137154.69.Trip->Waidhaus(Gr).9209.Arrival->Waidhaus(Gr).9310.Departure->137174.90.Trip->Nürnberg ZOB.9400.Arrival->.20.Walk->Nürnberg Hbf.9420.Departure->137501.124.Trip->Frankfurt(Main)Hbf.9544.Arrival->Frankfurt(Main)Hbf.9561.Departure->99875.63.Trip->Cölbe.9624.Arrival->Cölbe.9635.Departure->104907.25.Trip->Ernsthausen.9660.Arrival\n",
      "\n",
      "###########################\n",
      "\n",
      "Average % delay: 50.606463878327 %\n",
      "Median % delay: 15.0 %\n",
      "Min % delay: -74 %\n",
      "Max % delay: 3100 %\n"
     ]
    }
   ],
   "source": [
    "print(\"Total delay:\", df[\"delay\"].sum(), \"min\", \"=\", df[\"delay\"].sum()/60, \"h\")\n",
    "print(\"Average delay:\", np.mean(df[\"delay\"]), \"min\", \"=\", np.mean(df[\"delay\"])/60, \"h\")\n",
    "print(\"Median delay:\", np.median(df[\"delay\"]), \"min\", \"=\", np.median(df[\"delay\"])/60, \"h\")\n",
    "print(\"\\n###########################\\n\")\n",
    "print(\"Min delay:\", df[\"delay\"].min(), \"min\", \"=\", df[\"delay\"].min()/60, \"h:\")\n",
    "display(df[df[\"delay\"] == df[\"delay\"].min()])\n",
    "path = df[df[\"delay\"] == df[\"delay\"].min()][\"path\"].iloc[0]\n",
    "print(path)\n",
    "print(\"\\n###########################\\n\")\n",
    "print(\"Max delay:\", df[\"delay\"].max(), \"min\", \"=\", df[\"delay\"].max()/60, \"h:\")\n",
    "display(df[df[\"delay\"] == df[\"delay\"].max()])\n",
    "path = df[df[\"delay\"] == df[\"delay\"].max()][\"path\"].iloc[0]\n",
    "print(path)\n",
    "print(\"\\n###########################\\n\")\n",
    "print(\"Average % delay:\", np.mean(df[\"delay_in_%\"]), \"%\")\n",
    "print(\"Median % delay:\", np.median(df[\"delay_in_%\"]), \"%\")\n",
    "print(\"Min % delay:\", df[\"delay_in_%\"].min(), \"%\")\n",
    "print(\"Max % delay:\", df[\"delay_in_%\"].max(), \"%\")"
   ]
  },
  {
   "cell_type": "code",
   "execution_count": 37,
   "id": "foster-consent",
   "metadata": {},
   "outputs": [
    {
     "data": {
      "text/plain": [
       "<AxesSubplot:xlabel='delay_in_%', ylabel='Count'>"
      ]
     },
     "execution_count": 37,
     "metadata": {},
     "output_type": "execute_result"
    },
    {
     "data": {
      "image/png": "[encoded data removed]",
      "text/plain": [
       "<Figure size 432x288 with 1 Axes>"
      ]
     },
     "metadata": {
      "needs_background": "light"
     },
     "output_type": "display_data"
    }
   ],
   "source": [
    "sb.histplot(df, x=\"delay_in_%\", bins=range(1, df[\"delay_in_%\"].max()+1, 5))"
   ]
  },
  {
   "cell_type": "code",
   "execution_count": 38,
   "id": "paperback-authority",
   "metadata": {},
   "outputs": [
    {
     "data": {
      "text/plain": [
       "<AxesSubplot:xlabel='delay_in_%', ylabel='Count'>"
      ]
     },
     "execution_count": 38,
     "metadata": {},
     "output_type": "execute_result"
    },
    {
     "data": {
      "image/png": "[encoded data removed]",
      "text/plain": [
       "<Figure size 432x288 with 1 Axes>"
      ]
     },
     "metadata": {
      "needs_background": "light"
     },
     "output_type": "display_data"
    }
   ],
   "source": [
    "sb.histplot(df, x=\"delay_in_%\", bins=range(1, sorted(df[\"delay_in_%\"])[-10]+1, 5))"
   ]
  },
  {
   "cell_type": "markdown",
   "id": "average-springer",
   "metadata": {},
   "source": [
    "# Calculate different travel cost metrics"
   ]
  },
  {
   "cell_type": "code",
   "execution_count": 39,
   "id": "fixed-truck",
   "metadata": {},
   "outputs": [
    {
     "name": "stdout",
     "output_type": "stream",
     "text": [
      "Total travel cost: 51075\n",
      "Average travel cost: 48.55038022813688\n",
      "Median travel cost: 46.0\n",
      "Min travel cost: 1\n",
      "Max travel cost: 359\n"
     ]
    }
   ],
   "source": [
    "print(\"Total travel cost:\", df[\"travel_cost\"].sum())\n",
    "print(\"Average travel cost:\", np.mean(df[\"travel_cost\"]))\n",
    "print(\"Median travel cost:\", np.median(df[\"travel_cost\"]))\n",
    "print(\"Min travel cost:\", df[\"travel_cost\"].min())\n",
    "print(\"Max travel cost:\", df[\"travel_cost\"].max())"
   ]
  },
  {
   "cell_type": "code",
   "execution_count": 40,
   "id": "sublime-listing",
   "metadata": {},
   "outputs": [
    {
     "name": "stdout",
     "output_type": "stream",
     "text": [
      "Total number of walks: 773\n",
      "Average number of walks: 0.7347908745247148\n",
      "Median number of walks: 1.0\n",
      "Min number of walks: 0\n",
      "Max number of walks: 3\n"
     ]
    }
   ],
   "source": [
    "print(\"Total number of walks:\", df[\"walks\"].sum())\n",
    "print(\"Average number of walks:\", np.mean(df[\"walks\"]))\n",
    "print(\"Median number of walks:\", np.median(df[\"walks\"]))\n",
    "print(\"Min number of walks:\", df[\"walks\"].min())\n",
    "print(\"Max number of walks:\", df[\"walks\"].max())"
   ]
  },
  {
   "cell_type": "code",
   "execution_count": 41,
   "id": "spare-dispute",
   "metadata": {},
   "outputs": [
    {
     "name": "stdout",
     "output_type": "stream",
     "text": [
      "Total waiting time: 16364\n",
      "Average waiting time: 15.55513307984791\n",
      "Median waiting time: 10.0\n",
      "Min waiting time: 0\n",
      "Max waiting time: 322\n"
     ]
    }
   ],
   "source": [
    "print(\"Total waiting time:\", df[\"waiting_time\"].sum())\n",
    "print(\"Average waiting time:\", np.mean(df[\"waiting_time\"]))\n",
    "print(\"Median waiting time:\", np.median(df[\"waiting_time\"]))\n",
    "print(\"Min waiting time:\", df[\"waiting_time\"].min())\n",
    "print(\"Max waiting time:\", df[\"waiting_time\"].max())"
   ]
  },
  {
   "cell_type": "code",
   "execution_count": 42,
   "id": "boolean-january",
   "metadata": {},
   "outputs": [
    {
     "name": "stdout",
     "output_type": "stream",
     "text": [
      "Total time in train: 220489\n",
      "Average time in train: 209.5903041825095\n",
      "Median time in train: 173.0\n",
      "Min time in train: 2\n",
      "Max time in train: 763\n"
     ]
    }
   ],
   "source": [
    "print(\"Total time in train:\", df[\"in_trip_time\"].sum())\n",
    "print(\"Average time in train:\", np.mean(df[\"in_trip_time\"]))\n",
    "print(\"Median time in train:\", np.median(df[\"in_trip_time\"]))\n",
    "print(\"Min time in train:\", df[\"in_trip_time\"].min())\n",
    "print(\"Max time in train:\", df[\"in_trip_time\"].max())"
   ]
  },
  {
   "cell_type": "markdown",
   "id": "aging-torture",
   "metadata": {},
   "source": [
    "# Calculate different edge cost metrics"
   ]
  },
  {
   "cell_type": "code",
   "execution_count": 43,
   "id": "apart-miracle",
   "metadata": {},
   "outputs": [
    {
     "data": {
      "text/html": [
       "<div>\n",
       "<style scoped>\n",
       "    .dataframe tbody tr th:only-of-type {\n",
       "        vertical-align: middle;\n",
       "    }\n",
       "\n",
       "    .dataframe tbody tr th {\n",
       "        vertical-align: top;\n",
       "    }\n",
       "\n",
       "    .dataframe thead th {\n",
       "        text-align: right;\n",
       "    }\n",
       "</style>\n",
       "<table border=\"1\" class=\"dataframe\">\n",
       "  <thead>\n",
       "    <tr style=\"text-align: right;\">\n",
       "      <th></th>\n",
       "      <th>edge_index</th>\n",
       "      <th>duration</th>\n",
       "      <th>capacity</th>\n",
       "      <th>utilization</th>\n",
       "    </tr>\n",
       "  </thead>\n",
       "  <tbody>\n",
       "    <tr>\n",
       "      <th>0</th>\n",
       "      <td>EdgeIndex(2480403)</td>\n",
       "      <td>2</td>\n",
       "      <td>270</td>\n",
       "      <td>16</td>\n",
       "    </tr>\n",
       "    <tr>\n",
       "      <th>1</th>\n",
       "      <td>EdgeIndex(3410623)</td>\n",
       "      <td>30</td>\n",
       "      <td>282</td>\n",
       "      <td>25</td>\n",
       "    </tr>\n",
       "    <tr>\n",
       "      <th>2</th>\n",
       "      <td>EdgeIndex(2562241)</td>\n",
       "      <td>2</td>\n",
       "      <td>399</td>\n",
       "      <td>6</td>\n",
       "    </tr>\n",
       "    <tr>\n",
       "      <th>3</th>\n",
       "      <td>EdgeIndex(2022389)</td>\n",
       "      <td>4</td>\n",
       "      <td>313</td>\n",
       "      <td>24</td>\n",
       "    </tr>\n",
       "    <tr>\n",
       "      <th>4</th>\n",
       "      <td>EdgeIndex(3366111)</td>\n",
       "      <td>8</td>\n",
       "      <td>204</td>\n",
       "      <td>2</td>\n",
       "    </tr>\n",
       "    <tr>\n",
       "      <th>...</th>\n",
       "      <td>...</td>\n",
       "      <td>...</td>\n",
       "      <td>...</td>\n",
       "      <td>...</td>\n",
       "    </tr>\n",
       "    <tr>\n",
       "      <th>4104</th>\n",
       "      <td>EdgeIndex(317331)</td>\n",
       "      <td>10</td>\n",
       "      <td>137</td>\n",
       "      <td>5</td>\n",
       "    </tr>\n",
       "    <tr>\n",
       "      <th>4105</th>\n",
       "      <td>EdgeIndex(3395229)</td>\n",
       "      <td>38</td>\n",
       "      <td>1</td>\n",
       "      <td>17</td>\n",
       "    </tr>\n",
       "    <tr>\n",
       "      <th>4106</th>\n",
       "      <td>EdgeIndex(2685083)</td>\n",
       "      <td>4</td>\n",
       "      <td>161</td>\n",
       "      <td>27</td>\n",
       "    </tr>\n",
       "    <tr>\n",
       "      <th>4107</th>\n",
       "      <td>EdgeIndex(326739)</td>\n",
       "      <td>3</td>\n",
       "      <td>151</td>\n",
       "      <td>1</td>\n",
       "    </tr>\n",
       "    <tr>\n",
       "      <th>4108</th>\n",
       "      <td>EdgeIndex(876191)</td>\n",
       "      <td>16</td>\n",
       "      <td>396</td>\n",
       "      <td>1</td>\n",
       "    </tr>\n",
       "  </tbody>\n",
       "</table>\n",
       "<p>4109 rows × 4 columns</p>\n",
       "</div>"
      ],
      "text/plain": [
       "              edge_index  duration  capacity  utilization\n",
       "0     EdgeIndex(2480403)         2       270           16\n",
       "1     EdgeIndex(3410623)        30       282           25\n",
       "2     EdgeIndex(2562241)         2       399            6\n",
       "3     EdgeIndex(2022389)         4       313           24\n",
       "4     EdgeIndex(3366111)         8       204            2\n",
       "...                  ...       ...       ...          ...\n",
       "4104   EdgeIndex(317331)        10       137            5\n",
       "4105  EdgeIndex(3395229)        38         1           17\n",
       "4106  EdgeIndex(2685083)         4       161           27\n",
       "4107   EdgeIndex(326739)         3       151            1\n",
       "4108   EdgeIndex(876191)        16       396            1\n",
       "\n",
       "[4109 rows x 4 columns]"
      ]
     },
     "execution_count": 43,
     "metadata": {},
     "output_type": "execute_result"
    }
   ],
   "source": [
    "df = pd.read_csv(path + \"_edges.csv\", sep=\"|\")\n",
    "df"
   ]
  },
  {
   "cell_type": "code",
   "execution_count": 47,
   "id": "boring-absorption",
   "metadata": {},
   "outputs": [
    {
     "name": "stdout",
     "output_type": "stream",
     "text": [
      "Number of strained trip edges: 4109\n",
      "Number of strained trip edges with utilization > capacity: 195\n",
      "Total overload (only edges with utilization > capacity): 1614\n",
      "Average overload (only edges with utilization > capacity): 8.276923076923078\n",
      "Median overload (only edges with utilization > capacity): 5.0\n",
      "Max overload of one edge: 61\n"
     ]
    },
    {
     "data": {
      "text/html": [
       "<div>\n",
       "<style scoped>\n",
       "    .dataframe tbody tr th:only-of-type {\n",
       "        vertical-align: middle;\n",
       "    }\n",
       "\n",
       "    .dataframe tbody tr th {\n",
       "        vertical-align: top;\n",
       "    }\n",
       "\n",
       "    .dataframe thead th {\n",
       "        text-align: right;\n",
       "    }\n",
       "</style>\n",
       "<table border=\"1\" class=\"dataframe\">\n",
       "  <thead>\n",
       "    <tr style=\"text-align: right;\">\n",
       "      <th></th>\n",
       "      <th>edge_index</th>\n",
       "      <th>duration</th>\n",
       "      <th>capacity</th>\n",
       "      <th>utilization</th>\n",
       "      <th>overload</th>\n",
       "    </tr>\n",
       "  </thead>\n",
       "  <tbody>\n",
       "    <tr>\n",
       "      <th>22</th>\n",
       "      <td>EdgeIndex(1749639)</td>\n",
       "      <td>9</td>\n",
       "      <td>0</td>\n",
       "      <td>11</td>\n",
       "      <td>11</td>\n",
       "    </tr>\n",
       "    <tr>\n",
       "      <th>79</th>\n",
       "      <td>EdgeIndex(3413931)</td>\n",
       "      <td>36</td>\n",
       "      <td>0</td>\n",
       "      <td>16</td>\n",
       "      <td>16</td>\n",
       "    </tr>\n",
       "    <tr>\n",
       "      <th>89</th>\n",
       "      <td>EdgeIndex(1732977)</td>\n",
       "      <td>28</td>\n",
       "      <td>0</td>\n",
       "      <td>3</td>\n",
       "      <td>3</td>\n",
       "    </tr>\n",
       "    <tr>\n",
       "      <th>94</th>\n",
       "      <td>EdgeIndex(2156597)</td>\n",
       "      <td>4</td>\n",
       "      <td>0</td>\n",
       "      <td>8</td>\n",
       "      <td>8</td>\n",
       "    </tr>\n",
       "    <tr>\n",
       "      <th>116</th>\n",
       "      <td>EdgeIndex(1767103)</td>\n",
       "      <td>30</td>\n",
       "      <td>0</td>\n",
       "      <td>6</td>\n",
       "      <td>6</td>\n",
       "    </tr>\n",
       "    <tr>\n",
       "      <th>...</th>\n",
       "      <td>...</td>\n",
       "      <td>...</td>\n",
       "      <td>...</td>\n",
       "      <td>...</td>\n",
       "      <td>...</td>\n",
       "    </tr>\n",
       "    <tr>\n",
       "      <th>3969</th>\n",
       "      <td>EdgeIndex(2794149)</td>\n",
       "      <td>5</td>\n",
       "      <td>0</td>\n",
       "      <td>5</td>\n",
       "      <td>5</td>\n",
       "    </tr>\n",
       "    <tr>\n",
       "      <th>3980</th>\n",
       "      <td>EdgeIndex(50367)</td>\n",
       "      <td>24</td>\n",
       "      <td>0</td>\n",
       "      <td>3</td>\n",
       "      <td>3</td>\n",
       "    </tr>\n",
       "    <tr>\n",
       "      <th>4000</th>\n",
       "      <td>EdgeIndex(324161)</td>\n",
       "      <td>4</td>\n",
       "      <td>0</td>\n",
       "      <td>5</td>\n",
       "      <td>5</td>\n",
       "    </tr>\n",
       "    <tr>\n",
       "      <th>4028</th>\n",
       "      <td>EdgeIndex(2157389)</td>\n",
       "      <td>7</td>\n",
       "      <td>0</td>\n",
       "      <td>5</td>\n",
       "      <td>5</td>\n",
       "    </tr>\n",
       "    <tr>\n",
       "      <th>4105</th>\n",
       "      <td>EdgeIndex(3395229)</td>\n",
       "      <td>38</td>\n",
       "      <td>1</td>\n",
       "      <td>17</td>\n",
       "      <td>16</td>\n",
       "    </tr>\n",
       "  </tbody>\n",
       "</table>\n",
       "<p>195 rows × 5 columns</p>\n",
       "</div>"
      ],
      "text/plain": [
       "              edge_index  duration  capacity  utilization  overload\n",
       "22    EdgeIndex(1749639)         9         0           11        11\n",
       "79    EdgeIndex(3413931)        36         0           16        16\n",
       "89    EdgeIndex(1732977)        28         0            3         3\n",
       "94    EdgeIndex(2156597)         4         0            8         8\n",
       "116   EdgeIndex(1767103)        30         0            6         6\n",
       "...                  ...       ...       ...          ...       ...\n",
       "3969  EdgeIndex(2794149)         5         0            5         5\n",
       "3980    EdgeIndex(50367)        24         0            3         3\n",
       "4000   EdgeIndex(324161)         4         0            5         5\n",
       "4028  EdgeIndex(2157389)         7         0            5         5\n",
       "4105  EdgeIndex(3395229)        38         1           17        16\n",
       "\n",
       "[195 rows x 5 columns]"
      ]
     },
     "execution_count": 47,
     "metadata": {},
     "output_type": "execute_result"
    }
   ],
   "source": [
    "print(\"Number of strained trip edges:\", len(df))\n",
    "df_filtered = df[df['capacity'] < df['utilization']].loc[:]\n",
    "print(\"Number of strained trip edges with utilization > capacity:\", len(df_filtered))\n",
    "df_filtered[\"overload\"] = df_filtered[\"utilization\"]-df_filtered[\"capacity\"]\n",
    "print(\"Total overload (only edges with utilization > capacity):\", df_filtered[\"overload\"].sum())\n",
    "print(\"Average overload (only edges with utilization > capacity):\", np.mean(df_filtered[\"overload\"]))\n",
    "print(\"Median overload (only edges with utilization > capacity):\", np.median(df_filtered[\"overload\"]))\n",
    "print(\"Max overload of one edge:\", df_filtered[\"overload\"].max())\n",
    "df_filtered"
   ]
  },
  {
   "cell_type": "code",
   "execution_count": 48,
   "id": "limiting-programming",
   "metadata": {},
   "outputs": [
    {
     "data": {
      "text/plain": [
       "<AxesSubplot:xlabel='overload', ylabel='Count'>"
      ]
     },
     "execution_count": 48,
     "metadata": {},
     "output_type": "execute_result"
    },
    {
     "data": {
      "image/png": "[encoded data removed]",
      "text/plain": [
       "<Figure size 432x288 with 1 Axes>"
      ]
     },
     "metadata": {
      "needs_background": "light"
     },
     "output_type": "display_data"
    }
   ],
   "source": [
    "sb.histplot(df_filtered, x=\"overload\", bins=range(1, df_filtered[\"overload\"].max()+1))"
   ]
  },
  {
   "cell_type": "markdown",
   "id": "african-nutrition",
   "metadata": {},
   "source": [
    "# Cost Quantile"
   ]
  },
  {
   "cell_type": "code",
   "execution_count": 73,
   "id": "solar-sender",
   "metadata": {},
   "outputs": [
    {
     "data": {
      "text/html": [
       "<div>\n",
       "<style scoped>\n",
       "    .dataframe tbody tr th:only-of-type {\n",
       "        vertical-align: middle;\n",
       "    }\n",
       "\n",
       "    .dataframe tbody tr th {\n",
       "        vertical-align: top;\n",
       "    }\n",
       "\n",
       "    .dataframe thead th {\n",
       "        text-align: right;\n",
       "    }\n",
       "</style>\n",
       "<table border=\"1\" class=\"dataframe\">\n",
       "  <thead>\n",
       "    <tr style=\"text-align: right;\">\n",
       "      <th></th>\n",
       "      <th>cost</th>\n",
       "      <th>edge_cost</th>\n",
       "      <th>travel_cost</th>\n",
       "      <th>delay_cost</th>\n",
       "    </tr>\n",
       "  </thead>\n",
       "  <tbody>\n",
       "    <tr>\n",
       "      <th>0</th>\n",
       "      <td>131471</td>\n",
       "      <td>35817</td>\n",
       "      <td>50687</td>\n",
       "      <td>44967</td>\n",
       "    </tr>\n",
       "    <tr>\n",
       "      <th>1</th>\n",
       "      <td>123449</td>\n",
       "      <td>27887</td>\n",
       "      <td>51335</td>\n",
       "      <td>44227</td>\n",
       "    </tr>\n",
       "    <tr>\n",
       "      <th>2</th>\n",
       "      <td>130332</td>\n",
       "      <td>33812</td>\n",
       "      <td>51078</td>\n",
       "      <td>45442</td>\n",
       "    </tr>\n",
       "    <tr>\n",
       "      <th>3</th>\n",
       "      <td>121445</td>\n",
       "      <td>25393</td>\n",
       "      <td>50915</td>\n",
       "      <td>45137</td>\n",
       "    </tr>\n",
       "    <tr>\n",
       "      <th>4</th>\n",
       "      <td>127551</td>\n",
       "      <td>30867</td>\n",
       "      <td>51079</td>\n",
       "      <td>45605</td>\n",
       "    </tr>\n",
       "    <tr>\n",
       "      <th>...</th>\n",
       "      <td>...</td>\n",
       "      <td>...</td>\n",
       "      <td>...</td>\n",
       "      <td>...</td>\n",
       "    </tr>\n",
       "    <tr>\n",
       "      <th>95</th>\n",
       "      <td>131511</td>\n",
       "      <td>34788</td>\n",
       "      <td>50745</td>\n",
       "      <td>45978</td>\n",
       "    </tr>\n",
       "    <tr>\n",
       "      <th>96</th>\n",
       "      <td>126124</td>\n",
       "      <td>30776</td>\n",
       "      <td>50980</td>\n",
       "      <td>44368</td>\n",
       "    </tr>\n",
       "    <tr>\n",
       "      <th>97</th>\n",
       "      <td>127320</td>\n",
       "      <td>31802</td>\n",
       "      <td>50921</td>\n",
       "      <td>44597</td>\n",
       "    </tr>\n",
       "    <tr>\n",
       "      <th>98</th>\n",
       "      <td>127428</td>\n",
       "      <td>30294</td>\n",
       "      <td>51115</td>\n",
       "      <td>46019</td>\n",
       "    </tr>\n",
       "    <tr>\n",
       "      <th>99</th>\n",
       "      <td>129159</td>\n",
       "      <td>31512</td>\n",
       "      <td>51348</td>\n",
       "      <td>46299</td>\n",
       "    </tr>\n",
       "  </tbody>\n",
       "</table>\n",
       "<p>100 rows × 4 columns</p>\n",
       "</div>"
      ],
      "text/plain": [
       "      cost  edge_cost  travel_cost  delay_cost\n",
       "0   131471      35817        50687       44967\n",
       "1   123449      27887        51335       44227\n",
       "2   130332      33812        51078       45442\n",
       "3   121445      25393        50915       45137\n",
       "4   127551      30867        51079       45605\n",
       "..     ...        ...          ...         ...\n",
       "95  131511      34788        50745       45978\n",
       "96  126124      30776        50980       44368\n",
       "97  127320      31802        50921       44597\n",
       "98  127428      30294        51115       46019\n",
       "99  129159      31512        51348       46299\n",
       "\n",
       "[100 rows x 4 columns]"
      ]
     },
     "execution_count": 73,
     "metadata": {},
     "output_type": "execute_result"
    }
   ],
   "source": [
    "df = pd.read_csv(path + \"_100_runs.csv\")\n",
    "df"
   ]
  },
  {
   "cell_type": "code",
   "execution_count": 74,
   "id": "competent-volunteer",
   "metadata": {},
   "outputs": [
    {
     "data": {
      "text/html": [
       "<div>\n",
       "<style scoped>\n",
       "    .dataframe tbody tr th:only-of-type {\n",
       "        vertical-align: middle;\n",
       "    }\n",
       "\n",
       "    .dataframe tbody tr th {\n",
       "        vertical-align: top;\n",
       "    }\n",
       "\n",
       "    .dataframe thead th {\n",
       "        text-align: right;\n",
       "    }\n",
       "</style>\n",
       "<table border=\"1\" class=\"dataframe\">\n",
       "  <thead>\n",
       "    <tr style=\"text-align: right;\">\n",
       "      <th></th>\n",
       "      <th>cost</th>\n",
       "      <th>edge_cost</th>\n",
       "      <th>travel_cost</th>\n",
       "      <th>delay_cost</th>\n",
       "    </tr>\n",
       "  </thead>\n",
       "  <tbody>\n",
       "    <tr>\n",
       "      <th>0.25</th>\n",
       "      <td>126784.75</td>\n",
       "      <td>30959.00</td>\n",
       "      <td>50772.50</td>\n",
       "      <td>43954.00</td>\n",
       "    </tr>\n",
       "    <tr>\n",
       "      <th>0.50</th>\n",
       "      <td>129702.50</td>\n",
       "      <td>33896.00</td>\n",
       "      <td>50918.00</td>\n",
       "      <td>44987.50</td>\n",
       "    </tr>\n",
       "    <tr>\n",
       "      <th>0.75</th>\n",
       "      <td>133345.00</td>\n",
       "      <td>36004.25</td>\n",
       "      <td>51143.75</td>\n",
       "      <td>46295.25</td>\n",
       "    </tr>\n",
       "  </tbody>\n",
       "</table>\n",
       "</div>"
      ],
      "text/plain": [
       "           cost  edge_cost  travel_cost  delay_cost\n",
       "0.25  126784.75   30959.00     50772.50    43954.00\n",
       "0.50  129702.50   33896.00     50918.00    44987.50\n",
       "0.75  133345.00   36004.25     51143.75    46295.25"
      ]
     },
     "execution_count": 74,
     "metadata": {},
     "output_type": "execute_result"
    }
   ],
   "source": [
    "df.quantile([0.25, 0.5, 0.75])"
   ]
  },
  {
   "cell_type": "code",
   "execution_count": 75,
   "id": "criminal-supervision",
   "metadata": {},
   "outputs": [
    {
     "data": {
      "text/plain": [
       "<AxesSubplot:xlabel='cost', ylabel='Count'>"
      ]
     },
     "execution_count": 75,
     "metadata": {},
     "output_type": "execute_result"
    },
    {
     "data": {
      "image/png": "[encoded data removed]",
      "text/plain": [
       "<Figure size 432x288 with 1 Axes>"
      ]
     },
     "metadata": {
      "needs_background": "light"
     },
     "output_type": "display_data"
    }
   ],
   "source": [
    "sb.histplot(df, x=\"cost\", bins=range(df['cost'].min(), df['cost'].max() + 1000, 1000))"
   ]
  },
  {
   "cell_type": "code",
   "execution_count": 76,
   "id": "shaped-greece",
   "metadata": {},
   "outputs": [
    {
     "data": {
      "text/plain": [
       "<AxesSubplot:xlabel='cost'>"
      ]
     },
     "execution_count": 76,
     "metadata": {},
     "output_type": "execute_result"
    },
    {
     "data": {
      "image/png": "[encoded data removed]",
      "text/plain": [
       "<Figure size 432x288 with 1 Axes>"
      ]
     },
     "metadata": {
      "needs_background": "light"
     },
     "output_type": "display_data"
    }
   ],
   "source": [
    "# Anmerkung\n",
    "# Anfang Box: unteres quartil (0.25 Quantil)\n",
    "# Ende Box: oberes quartil (0.75 Quantil)\n",
    "# Strich in Box: Median\n",
    "sb.boxplot(x=df[\"cost\"])"
   ]
  },
  {
   "cell_type": "code",
   "execution_count": 77,
   "id": "alien-senator",
   "metadata": {},
   "outputs": [
    {
     "data": {
      "text/plain": [
       "<AxesSubplot:xlabel='edge_cost', ylabel='Count'>"
      ]
     },
     "execution_count": 77,
     "metadata": {},
     "output_type": "execute_result"
    },
    {
     "data": {
      "image/png": "[encoded data removed]",
      "text/plain": [
       "<Figure size 432x288 with 1 Axes>"
      ]
     },
     "metadata": {
      "needs_background": "light"
     },
     "output_type": "display_data"
    }
   ],
   "source": [
    "sb.histplot(df, x=\"edge_cost\", bins=range(df['edge_cost'].min(), df['edge_cost'].max() + 1000, 1000))"
   ]
  },
  {
   "cell_type": "code",
   "execution_count": 78,
   "id": "intended-jumping",
   "metadata": {},
   "outputs": [
    {
     "data": {
      "text/plain": [
       "<AxesSubplot:xlabel='edge_cost'>"
      ]
     },
     "execution_count": 78,
     "metadata": {},
     "output_type": "execute_result"
    },
    {
     "data": {
      "image/png": "[encoded data removed]",
      "text/plain": [
       "<Figure size 432x288 with 1 Axes>"
      ]
     },
     "metadata": {
      "needs_background": "light"
     },
     "output_type": "display_data"
    }
   ],
   "source": [
    "sb.boxplot(x=df[\"edge_cost\"])"
   ]
  },
  {
   "cell_type": "code",
   "execution_count": 79,
   "id": "interim-chancellor",
   "metadata": {},
   "outputs": [
    {
     "data": {
      "text/plain": [
       "<AxesSubplot:xlabel='travel_cost', ylabel='Count'>"
      ]
     },
     "execution_count": 79,
     "metadata": {},
     "output_type": "execute_result"
    },
    {
     "data": {
      "image/png": "[encoded data removed]",
      "text/plain": [
       "<Figure size 432x288 with 1 Axes>"
      ]
     },
     "metadata": {
      "needs_background": "light"
     },
     "output_type": "display_data"
    }
   ],
   "source": [
    "sb.histplot(df, x=\"travel_cost\", bins=range(df['travel_cost'].min(), df['travel_cost'].max() + 100, 100))"
   ]
  },
  {
   "cell_type": "code",
   "execution_count": 80,
   "id": "communist-innocent",
   "metadata": {},
   "outputs": [
    {
     "data": {
      "text/plain": [
       "<AxesSubplot:xlabel='travel_cost'>"
      ]
     },
     "execution_count": 80,
     "metadata": {},
     "output_type": "execute_result"
    },
    {
     "data": {
      "image/png": "[encoded data removed]",
      "text/plain": [
       "<Figure size 432x288 with 1 Axes>"
      ]
     },
     "metadata": {
      "needs_background": "light"
     },
     "output_type": "display_data"
    }
   ],
   "source": [
    "sb.boxplot(x=df[\"travel_cost\"])"
   ]
  },
  {
   "cell_type": "code",
   "execution_count": 81,
   "id": "pressing-concentrate",
   "metadata": {},
   "outputs": [
    {
     "data": {
      "text/plain": [
       "<AxesSubplot:xlabel='delay_cost', ylabel='Count'>"
      ]
     },
     "execution_count": 81,
     "metadata": {},
     "output_type": "execute_result"
    },
    {
     "data": {
      "image/png": "[encoded data removed]",
      "text/plain": [
       "<Figure size 432x288 with 1 Axes>"
      ]
     },
     "metadata": {
      "needs_background": "light"
     },
     "output_type": "display_data"
    }
   ],
   "source": [
    "sb.histplot(df, x=\"delay_cost\", bins=range(df['delay_cost'].min(), df['delay_cost'].max() + 1000, 1000))"
   ]
  },
  {
   "cell_type": "code",
   "execution_count": 82,
   "id": "handmade-classroom",
   "metadata": {},
   "outputs": [
    {
     "data": {
      "text/plain": [
       "<AxesSubplot:xlabel='delay_cost'>"
      ]
     },
     "execution_count": 82,
     "metadata": {},
     "output_type": "execute_result"
    },
    {
     "data": {
      "image/png": "[encoded data removed]",
      "text/plain": [
       "<Figure size 432x288 with 1 Axes>"
      ]
     },
     "metadata": {
      "needs_background": "light"
     },
     "output_type": "display_data"
    }
   ],
   "source": [
    "sb.boxplot(x=df[\"delay_cost\"])"
   ]
  },
  {
   "cell_type": "code",
   "execution_count": null,
   "id": "portable-review",
   "metadata": {},
   "outputs": [],
   "source": []
  }
 ],
 "metadata": {
  "kernelspec": {
   "display_name": "Python 3",
   "language": "python",
   "name": "python3"
  },
  "language_info": {
   "codemirror_mode": {
    "name": "ipython",
    "version": 3
   },
   "file_extension": ".py",
   "mimetype": "text/x-python",
   "name": "python",
   "nbconvert_exporter": "python",
   "pygments_lexer": "ipython3",
   "version": "3.9.2"
  }
 },
 "nbformat": 4,
 "nbformat_minor": 5
}
