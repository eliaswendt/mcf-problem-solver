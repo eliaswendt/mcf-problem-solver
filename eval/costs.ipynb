{
 "cells": [
  {
   "cell_type": "code",
   "execution_count": 43,
   "id": "contrary-protest",
   "metadata": {},
   "outputs": [],
   "source": [
    "import pandas as pd\n",
    "import seaborn as sb"
   ]
  },
  {
   "cell_type": "code",
   "execution_count": 27,
   "id": "numerical-poison",
   "metadata": {},
   "outputs": [
    {
     "data": {
      "text/html": [
       "<div>\n",
       "<style scoped>\n",
       "    .dataframe tbody tr th:only-of-type {\n",
       "        vertical-align: middle;\n",
       "    }\n",
       "\n",
       "    .dataframe tbody tr th {\n",
       "        vertical-align: top;\n",
       "    }\n",
       "\n",
       "    .dataframe thead th {\n",
       "        text-align: right;\n",
       "    }\n",
       "</style>\n",
       "<table border=\"1\" class=\"dataframe\">\n",
       "  <thead>\n",
       "    <tr style=\"text-align: right;\">\n",
       "      <th></th>\n",
       "      <th>group_id</th>\n",
       "      <th>planned_time</th>\n",
       "      <th>real_time</th>\n",
       "      <th>delay</th>\n",
       "      <th>delay in %</th>\n",
       "      <th>path</th>\n",
       "    </tr>\n",
       "  </thead>\n",
       "  <tbody>\n",
       "    <tr>\n",
       "      <th>0</th>\n",
       "      <td>1</td>\n",
       "      <td>2</td>\n",
       "      <td>2319</td>\n",
       "      <td>2317</td>\n",
       "      <td>115850</td>\n",
       "      <td>München Hbf.7746.Arrival-&gt;.13.Walk-&gt;München Hb...</td>\n",
       "    </tr>\n",
       "    <tr>\n",
       "      <th>1</th>\n",
       "      <td>2</td>\n",
       "      <td>86</td>\n",
       "      <td>2069</td>\n",
       "      <td>1983</td>\n",
       "      <td>2305</td>\n",
       "      <td>Duisburg Hbf.7733.Arrival-&gt;137653.150.Trip-&gt;Br...</td>\n",
       "    </tr>\n",
       "    <tr>\n",
       "      <th>2</th>\n",
       "      <td>3</td>\n",
       "      <td>40</td>\n",
       "      <td>2343</td>\n",
       "      <td>2303</td>\n",
       "      <td>5757</td>\n",
       "      <td>Donauwörth.7755.Arrival-&gt;137265.54.Trip-&gt;Münch...</td>\n",
       "    </tr>\n",
       "    <tr>\n",
       "      <th>3</th>\n",
       "      <td>4</td>\n",
       "      <td>169</td>\n",
       "      <td>2052</td>\n",
       "      <td>1883</td>\n",
       "      <td>1114</td>\n",
       "      <td>München ZOB (Hackerbrücke).7861.Arrival-&gt;.12.W...</td>\n",
       "    </tr>\n",
       "    <tr>\n",
       "      <th>4</th>\n",
       "      <td>5</td>\n",
       "      <td>272</td>\n",
       "      <td>2298</td>\n",
       "      <td>2026</td>\n",
       "      <td>744</td>\n",
       "      <td>München Hbf.7746.Arrival-&gt;.13.Walk-&gt;München Hb...</td>\n",
       "    </tr>\n",
       "    <tr>\n",
       "      <th>...</th>\n",
       "      <td>...</td>\n",
       "      <td>...</td>\n",
       "      <td>...</td>\n",
       "      <td>...</td>\n",
       "      <td>...</td>\n",
       "      <td>...</td>\n",
       "    </tr>\n",
       "    <tr>\n",
       "      <th>1047</th>\n",
       "      <td>1050</td>\n",
       "      <td>169</td>\n",
       "      <td>2052</td>\n",
       "      <td>1883</td>\n",
       "      <td>1114</td>\n",
       "      <td>München ZOB (Hackerbrücke).7861.Arrival-&gt;.12.W...</td>\n",
       "    </tr>\n",
       "    <tr>\n",
       "      <th>1048</th>\n",
       "      <td>1051</td>\n",
       "      <td>221</td>\n",
       "      <td>2163</td>\n",
       "      <td>1942</td>\n",
       "      <td>878</td>\n",
       "      <td>Davos Monstein.9763.Departure-&gt;40852.13.Trip-&gt;...</td>\n",
       "    </tr>\n",
       "    <tr>\n",
       "      <th>1049</th>\n",
       "      <td>1052</td>\n",
       "      <td>221</td>\n",
       "      <td>2163</td>\n",
       "      <td>1942</td>\n",
       "      <td>878</td>\n",
       "      <td>Davos Monstein.9763.Departure-&gt;40852.13.Trip-&gt;...</td>\n",
       "    </tr>\n",
       "    <tr>\n",
       "      <th>1050</th>\n",
       "      <td>1053</td>\n",
       "      <td>169</td>\n",
       "      <td>2052</td>\n",
       "      <td>1883</td>\n",
       "      <td>1114</td>\n",
       "      <td>München ZOB (Hackerbrücke).7861.Arrival-&gt;.12.W...</td>\n",
       "    </tr>\n",
       "    <tr>\n",
       "      <th>1051</th>\n",
       "      <td>1054</td>\n",
       "      <td>169</td>\n",
       "      <td>2052</td>\n",
       "      <td>1883</td>\n",
       "      <td>1114</td>\n",
       "      <td>München ZOB (Hackerbrücke).7861.Arrival-&gt;.12.W...</td>\n",
       "    </tr>\n",
       "  </tbody>\n",
       "</table>\n",
       "<p>1052 rows × 6 columns</p>\n",
       "</div>"
      ],
      "text/plain": [
       "      group_id  planned_time  real_time  delay  delay in %  \\\n",
       "0            1             2       2319   2317      115850   \n",
       "1            2            86       2069   1983        2305   \n",
       "2            3            40       2343   2303        5757   \n",
       "3            4           169       2052   1883        1114   \n",
       "4            5           272       2298   2026         744   \n",
       "...        ...           ...        ...    ...         ...   \n",
       "1047      1050           169       2052   1883        1114   \n",
       "1048      1051           221       2163   1942         878   \n",
       "1049      1052           221       2163   1942         878   \n",
       "1050      1053           169       2052   1883        1114   \n",
       "1051      1054           169       2052   1883        1114   \n",
       "\n",
       "                                                   path  \n",
       "0     München Hbf.7746.Arrival->.13.Walk->München Hb...  \n",
       "1     Duisburg Hbf.7733.Arrival->137653.150.Trip->Br...  \n",
       "2     Donauwörth.7755.Arrival->137265.54.Trip->Münch...  \n",
       "3     München ZOB (Hackerbrücke).7861.Arrival->.12.W...  \n",
       "4     München Hbf.7746.Arrival->.13.Walk->München Hb...  \n",
       "...                                                 ...  \n",
       "1047  München ZOB (Hackerbrücke).7861.Arrival->.12.W...  \n",
       "1048  Davos Monstein.9763.Departure->40852.13.Trip->...  \n",
       "1049  Davos Monstein.9763.Departure->40852.13.Trip->...  \n",
       "1050  München ZOB (Hackerbrücke).7861.Arrival->.12.W...  \n",
       "1051  München ZOB (Hackerbrücke).7861.Arrival->.12.W...  \n",
       "\n",
       "[1052 rows x 6 columns]"
      ]
     },
     "execution_count": 27,
     "metadata": {},
     "output_type": "execute_result"
    }
   ],
   "source": [
    "df = pd.read_csv(\"groups.csv\", sep=\"|\")\n",
    "df"
   ]
  },
  {
   "cell_type": "markdown",
   "id": "certified-billion",
   "metadata": {},
   "source": [
    "# Calculate different delay metrics"
   ]
  },
  {
   "cell_type": "code",
   "execution_count": 28,
   "id": "allied-therapist",
   "metadata": {},
   "outputs": [
    {
     "name": "stdout",
     "output_type": "stream",
     "text": [
      "Total delay: 2054011 min = 34233.51666666667 h\n",
      "Average delay: 1952.481939163498 min = 32.54136565272497 h\n",
      "Average % delay: 3540.4885931558933 %\n"
     ]
    }
   ],
   "source": [
    "delay = df[\"delay\"].sum()\n",
    "delay_perc = df[\"delay in %\"].sum()\n",
    "print(\"Total delay:\", delay, \"min\", \"=\", delay/60, \"h\")\n",
    "print(\"Average delay:\", delay/len(df), \"min\", \"=\", delay/len(df)/60, \"h\")\n",
    "print(\"Average % delay:\", delay_perc/len(df), \"%\")"
   ]
  },
  {
   "cell_type": "markdown",
   "id": "aging-torture",
   "metadata": {},
   "source": [
    "# Calculate different edge metrics"
   ]
  },
  {
   "cell_type": "code",
   "execution_count": 29,
   "id": "apart-miracle",
   "metadata": {},
   "outputs": [
    {
     "data": {
      "text/html": [
       "<div>\n",
       "<style scoped>\n",
       "    .dataframe tbody tr th:only-of-type {\n",
       "        vertical-align: middle;\n",
       "    }\n",
       "\n",
       "    .dataframe tbody tr th {\n",
       "        vertical-align: top;\n",
       "    }\n",
       "\n",
       "    .dataframe thead th {\n",
       "        text-align: right;\n",
       "    }\n",
       "</style>\n",
       "<table border=\"1\" class=\"dataframe\">\n",
       "  <thead>\n",
       "    <tr style=\"text-align: right;\">\n",
       "      <th></th>\n",
       "      <th>edge_index</th>\n",
       "      <th>duration</th>\n",
       "      <th>capacity</th>\n",
       "      <th>utilization</th>\n",
       "    </tr>\n",
       "  </thead>\n",
       "  <tbody>\n",
       "    <tr>\n",
       "      <th>0</th>\n",
       "      <td>EdgeIndex(26275)</td>\n",
       "      <td>11</td>\n",
       "      <td>184</td>\n",
       "      <td>6</td>\n",
       "    </tr>\n",
       "    <tr>\n",
       "      <th>1</th>\n",
       "      <td>EdgeIndex(1766167)</td>\n",
       "      <td>14</td>\n",
       "      <td>0</td>\n",
       "      <td>6</td>\n",
       "    </tr>\n",
       "    <tr>\n",
       "      <th>2</th>\n",
       "      <td>EdgeIndex(2607487)</td>\n",
       "      <td>20</td>\n",
       "      <td>338</td>\n",
       "      <td>4</td>\n",
       "    </tr>\n",
       "    <tr>\n",
       "      <th>3</th>\n",
       "      <td>EdgeIndex(3267389)</td>\n",
       "      <td>8</td>\n",
       "      <td>197</td>\n",
       "      <td>1</td>\n",
       "    </tr>\n",
       "    <tr>\n",
       "      <th>4</th>\n",
       "      <td>EdgeIndex(614395)</td>\n",
       "      <td>4</td>\n",
       "      <td>246</td>\n",
       "      <td>1</td>\n",
       "    </tr>\n",
       "    <tr>\n",
       "      <th>...</th>\n",
       "      <td>...</td>\n",
       "      <td>...</td>\n",
       "      <td>...</td>\n",
       "      <td>...</td>\n",
       "    </tr>\n",
       "    <tr>\n",
       "      <th>3884</th>\n",
       "      <td>EdgeIndex(2542175)</td>\n",
       "      <td>1</td>\n",
       "      <td>209</td>\n",
       "      <td>7</td>\n",
       "    </tr>\n",
       "    <tr>\n",
       "      <th>3885</th>\n",
       "      <td>EdgeIndex(3407739)</td>\n",
       "      <td>12</td>\n",
       "      <td>194</td>\n",
       "      <td>4</td>\n",
       "    </tr>\n",
       "    <tr>\n",
       "      <th>3886</th>\n",
       "      <td>EdgeIndex(2638789)</td>\n",
       "      <td>1</td>\n",
       "      <td>447</td>\n",
       "      <td>57</td>\n",
       "    </tr>\n",
       "    <tr>\n",
       "      <th>3887</th>\n",
       "      <td>EdgeIndex(3295373)</td>\n",
       "      <td>5</td>\n",
       "      <td>110</td>\n",
       "      <td>1</td>\n",
       "    </tr>\n",
       "    <tr>\n",
       "      <th>3888</th>\n",
       "      <td>EdgeIndex(3300919)</td>\n",
       "      <td>25</td>\n",
       "      <td>164</td>\n",
       "      <td>55</td>\n",
       "    </tr>\n",
       "  </tbody>\n",
       "</table>\n",
       "<p>3889 rows × 4 columns</p>\n",
       "</div>"
      ],
      "text/plain": [
       "              edge_index  duration  capacity  utilization\n",
       "0       EdgeIndex(26275)        11       184            6\n",
       "1     EdgeIndex(1766167)        14         0            6\n",
       "2     EdgeIndex(2607487)        20       338            4\n",
       "3     EdgeIndex(3267389)         8       197            1\n",
       "4      EdgeIndex(614395)         4       246            1\n",
       "...                  ...       ...       ...          ...\n",
       "3884  EdgeIndex(2542175)         1       209            7\n",
       "3885  EdgeIndex(3407739)        12       194            4\n",
       "3886  EdgeIndex(2638789)         1       447           57\n",
       "3887  EdgeIndex(3295373)         5       110            1\n",
       "3888  EdgeIndex(3300919)        25       164           55\n",
       "\n",
       "[3889 rows x 4 columns]"
      ]
     },
     "execution_count": 29,
     "metadata": {},
     "output_type": "execute_result"
    }
   ],
   "source": [
    "df = pd.read_csv(\"edges.csv\", sep=\"|\")\n",
    "df"
   ]
  },
  {
   "cell_type": "code",
   "execution_count": 54,
   "id": "boring-absorption",
   "metadata": {},
   "outputs": [
    {
     "name": "stdout",
     "output_type": "stream",
     "text": [
      "Number of strained trip edges: 3889\n",
      "Number of strained trip edges with utilization > capacity: 208\n",
      "Total overload (only edges with utilization > capacity): 1441\n",
      "Average overload (only edges with utilization > capacity): 6.927884615384615\n",
      "Max overload of one edge: 42\n"
     ]
    }
   ],
   "source": [
    "print(\"Number of strained trip edges:\", len(df))\n",
    "df_filtered = df[df['capacity'] < df['utilization']].loc[:]\n",
    "print(\"Number of strained trip edges with utilization > capacity:\", len(df_filtered))\n",
    "df_filtered[\"overload\"] = df_filtered[\"utilization\"]-df_filtered[\"capacity\"]\n",
    "total_overload = df_filtered[\"overload\"].sum()\n",
    "print(\"Total overload (only edges with utilization > capacity):\", total_overload)\n",
    "print(\"Average overload (only edges with utilization > capacity):\", total_overload/len(df_filtered))\n",
    "print(\"Max overload of one edge:\", df_filtered[\"overload\"].max())"
   ]
  },
  {
   "cell_type": "code",
   "execution_count": 57,
   "id": "limiting-programming",
   "metadata": {},
   "outputs": [
    {
     "data": {
      "text/plain": [
       "<AxesSubplot:xlabel='overload', ylabel='Count'>"
      ]
     },
     "execution_count": 57,
     "metadata": {},
     "output_type": "execute_result"
    },
    {
     "data": {
      "image/png": "[encoded data removed]",
      "text/plain": [
       "<Figure size 432x288 with 1 Axes>"
      ]
     },
     "metadata": {
      "needs_background": "light"
     },
     "output_type": "display_data"
    }
   ],
   "source": [
    "sb.histplot(df_filtered, x=\"overload\", bins=range(1, df_overload.max()+1))"
   ]
  },
  {
   "cell_type": "code",
   "execution_count": null,
   "id": "scenic-precipitation",
   "metadata": {},
   "outputs": [],
   "source": []
  }
 ],
 "metadata": {
  "kernelspec": {
   "display_name": "Python 3",
   "language": "python",
   "name": "python3"
  },
  "language_info": {
   "codemirror_mode": {
    "name": "ipython",
    "version": 3
   },
   "file_extension": ".py",
   "mimetype": "text/x-python",
   "name": "python",
   "nbconvert_exporter": "python",
   "pygments_lexer": "ipython3",
   "version": "3.9.2"
  }
 },
 "nbformat": 4,
 "nbformat_minor": 5
}
