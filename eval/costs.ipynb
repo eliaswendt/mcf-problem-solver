{
 "cells": [
  {
   "cell_type": "code",
   "execution_count": 5,
   "id": "contrary-protest",
   "metadata": {},
   "outputs": [],
   "source": [
    "import pandas as pd\n",
    "import seaborn as sb\n",
    "import numpy as np"
   ]
  },
  {
   "cell_type": "code",
   "execution_count": 6,
   "id": "numerical-poison",
   "metadata": {},
   "outputs": [
    {
     "data": {
      "text/html": [
       "<div>\n",
       "<style scoped>\n",
       "    .dataframe tbody tr th:only-of-type {\n",
       "        vertical-align: middle;\n",
       "    }\n",
       "\n",
       "    .dataframe tbody tr th {\n",
       "        vertical-align: top;\n",
       "    }\n",
       "\n",
       "    .dataframe thead th {\n",
       "        text-align: right;\n",
       "    }\n",
       "</style>\n",
       "<table border=\"1\" class=\"dataframe\">\n",
       "  <thead>\n",
       "    <tr style=\"text-align: right;\">\n",
       "      <th></th>\n",
       "      <th>group_id</th>\n",
       "      <th>planned_time</th>\n",
       "      <th>real_time</th>\n",
       "      <th>travel_cost</th>\n",
       "      <th>delay</th>\n",
       "      <th>delay_in_%</th>\n",
       "      <th>waiting_time</th>\n",
       "      <th>in_trip_time</th>\n",
       "      <th>walks</th>\n",
       "      <th>path</th>\n",
       "    </tr>\n",
       "  </thead>\n",
       "  <tbody>\n",
       "    <tr>\n",
       "      <th>0</th>\n",
       "      <td>1054</td>\n",
       "      <td>169</td>\n",
       "      <td>169</td>\n",
       "      <td>98</td>\n",
       "      <td>0</td>\n",
       "      <td>0</td>\n",
       "      <td>28</td>\n",
       "      <td>105</td>\n",
       "      <td>2</td>\n",
       "      <td>München ZOB (Hackerbrücke).7861.Arrival-&gt;.12.W...</td>\n",
       "    </tr>\n",
       "    <tr>\n",
       "      <th>1</th>\n",
       "      <td>1053</td>\n",
       "      <td>169</td>\n",
       "      <td>169</td>\n",
       "      <td>98</td>\n",
       "      <td>0</td>\n",
       "      <td>0</td>\n",
       "      <td>28</td>\n",
       "      <td>105</td>\n",
       "      <td>2</td>\n",
       "      <td>München ZOB (Hackerbrücke).7861.Arrival-&gt;.12.W...</td>\n",
       "    </tr>\n",
       "    <tr>\n",
       "      <th>2</th>\n",
       "      <td>1052</td>\n",
       "      <td>221</td>\n",
       "      <td>281</td>\n",
       "      <td>156</td>\n",
       "      <td>60</td>\n",
       "      <td>27</td>\n",
       "      <td>73</td>\n",
       "      <td>188</td>\n",
       "      <td>0</td>\n",
       "      <td>Davos Monstein.7903.Departure-&gt;40859.13.Trip-&gt;...</td>\n",
       "    </tr>\n",
       "    <tr>\n",
       "      <th>3</th>\n",
       "      <td>1051</td>\n",
       "      <td>221</td>\n",
       "      <td>281</td>\n",
       "      <td>156</td>\n",
       "      <td>60</td>\n",
       "      <td>27</td>\n",
       "      <td>73</td>\n",
       "      <td>188</td>\n",
       "      <td>0</td>\n",
       "      <td>Davos Monstein.7903.Departure-&gt;40859.13.Trip-&gt;...</td>\n",
       "    </tr>\n",
       "    <tr>\n",
       "      <th>4</th>\n",
       "      <td>1050</td>\n",
       "      <td>169</td>\n",
       "      <td>169</td>\n",
       "      <td>98</td>\n",
       "      <td>0</td>\n",
       "      <td>0</td>\n",
       "      <td>28</td>\n",
       "      <td>105</td>\n",
       "      <td>2</td>\n",
       "      <td>München ZOB (Hackerbrücke).7861.Arrival-&gt;.12.W...</td>\n",
       "    </tr>\n",
       "    <tr>\n",
       "      <th>...</th>\n",
       "      <td>...</td>\n",
       "      <td>...</td>\n",
       "      <td>...</td>\n",
       "      <td>...</td>\n",
       "      <td>...</td>\n",
       "      <td>...</td>\n",
       "      <td>...</td>\n",
       "      <td>...</td>\n",
       "      <td>...</td>\n",
       "      <td>...</td>\n",
       "    </tr>\n",
       "    <tr>\n",
       "      <th>1039</th>\n",
       "      <td>6</td>\n",
       "      <td>63</td>\n",
       "      <td>59</td>\n",
       "      <td>34</td>\n",
       "      <td>-4</td>\n",
       "      <td>-6</td>\n",
       "      <td>10</td>\n",
       "      <td>30</td>\n",
       "      <td>1</td>\n",
       "      <td>München Hbf.7748.Arrival-&gt;.14.Walk-&gt;München Hb...</td>\n",
       "    </tr>\n",
       "    <tr>\n",
       "      <th>1040</th>\n",
       "      <td>5</td>\n",
       "      <td>272</td>\n",
       "      <td>307</td>\n",
       "      <td>101</td>\n",
       "      <td>35</td>\n",
       "      <td>12</td>\n",
       "      <td>19</td>\n",
       "      <td>238</td>\n",
       "      <td>3</td>\n",
       "      <td>München Hbf.7746.Arrival-&gt;.14.Walk-&gt;München Hb...</td>\n",
       "    </tr>\n",
       "    <tr>\n",
       "      <th>1041</th>\n",
       "      <td>4</td>\n",
       "      <td>169</td>\n",
       "      <td>169</td>\n",
       "      <td>98</td>\n",
       "      <td>0</td>\n",
       "      <td>0</td>\n",
       "      <td>28</td>\n",
       "      <td>105</td>\n",
       "      <td>2</td>\n",
       "      <td>München ZOB (Hackerbrücke).7861.Arrival-&gt;.12.W...</td>\n",
       "    </tr>\n",
       "    <tr>\n",
       "      <th>1042</th>\n",
       "      <td>3</td>\n",
       "      <td>40</td>\n",
       "      <td>100</td>\n",
       "      <td>40</td>\n",
       "      <td>60</td>\n",
       "      <td>150</td>\n",
       "      <td>7</td>\n",
       "      <td>68</td>\n",
       "      <td>0</td>\n",
       "      <td>Donauwörth.7755.Arrival-&gt;137265.54.Trip-&gt;Münch...</td>\n",
       "    </tr>\n",
       "    <tr>\n",
       "      <th>1043</th>\n",
       "      <td>2</td>\n",
       "      <td>86</td>\n",
       "      <td>146</td>\n",
       "      <td>52</td>\n",
       "      <td>60</td>\n",
       "      <td>69</td>\n",
       "      <td>39</td>\n",
       "      <td>77</td>\n",
       "      <td>0</td>\n",
       "      <td>Duisburg Hbf.7733.Arrival-&gt;137653.69.Trip-&gt;Mün...</td>\n",
       "    </tr>\n",
       "  </tbody>\n",
       "</table>\n",
       "<p>1044 rows × 10 columns</p>\n",
       "</div>"
      ],
      "text/plain": [
       "      group_id  planned_time  real_time  travel_cost  delay  delay_in_%  \\\n",
       "0         1054           169        169           98      0           0   \n",
       "1         1053           169        169           98      0           0   \n",
       "2         1052           221        281          156     60          27   \n",
       "3         1051           221        281          156     60          27   \n",
       "4         1050           169        169           98      0           0   \n",
       "...        ...           ...        ...          ...    ...         ...   \n",
       "1039         6            63         59           34     -4          -6   \n",
       "1040         5           272        307          101     35          12   \n",
       "1041         4           169        169           98      0           0   \n",
       "1042         3            40        100           40     60         150   \n",
       "1043         2            86        146           52     60          69   \n",
       "\n",
       "      waiting_time  in_trip_time  walks  \\\n",
       "0               28           105      2   \n",
       "1               28           105      2   \n",
       "2               73           188      0   \n",
       "3               73           188      0   \n",
       "4               28           105      2   \n",
       "...            ...           ...    ...   \n",
       "1039            10            30      1   \n",
       "1040            19           238      3   \n",
       "1041            28           105      2   \n",
       "1042             7            68      0   \n",
       "1043            39            77      0   \n",
       "\n",
       "                                                   path  \n",
       "0     München ZOB (Hackerbrücke).7861.Arrival->.12.W...  \n",
       "1     München ZOB (Hackerbrücke).7861.Arrival->.12.W...  \n",
       "2     Davos Monstein.7903.Departure->40859.13.Trip->...  \n",
       "3     Davos Monstein.7903.Departure->40859.13.Trip->...  \n",
       "4     München ZOB (Hackerbrücke).7861.Arrival->.12.W...  \n",
       "...                                                 ...  \n",
       "1039  München Hbf.7748.Arrival->.14.Walk->München Hb...  \n",
       "1040  München Hbf.7746.Arrival->.14.Walk->München Hb...  \n",
       "1041  München ZOB (Hackerbrücke).7861.Arrival->.12.W...  \n",
       "1042  Donauwörth.7755.Arrival->137265.54.Trip->Münch...  \n",
       "1043  Duisburg Hbf.7733.Arrival->137653.69.Trip->Mün...  \n",
       "\n",
       "[1044 rows x 10 columns]"
      ]
     },
     "execution_count": 6,
     "metadata": {},
     "output_type": "execute_result"
    }
   ],
   "source": [
    "df = pd.read_csv(\"groups.csv\", sep=\"|\")\n",
    "df"
   ]
  },
  {
   "cell_type": "markdown",
   "id": "certified-billion",
   "metadata": {},
   "source": [
    "# Calculate different delay cost metrics"
   ]
  },
  {
   "cell_type": "code",
   "execution_count": 7,
   "id": "allied-therapist",
   "metadata": {},
   "outputs": [
    {
     "name": "stdout",
     "output_type": "stream",
     "text": [
      "Total delay: 35892 min = 598.2 h\n",
      "Average delay: 34.37931034482759 min = 0.5729885057471265 h\n",
      "Median delay: 21.0 min = 0.35 h\n",
      "\n",
      "###########################\n",
      "\n",
      "Min delay: -239 min = -3.9833333333333334 h:\n"
     ]
    },
    {
     "data": {
      "text/html": [
       "<div>\n",
       "<style scoped>\n",
       "    .dataframe tbody tr th:only-of-type {\n",
       "        vertical-align: middle;\n",
       "    }\n",
       "\n",
       "    .dataframe tbody tr th {\n",
       "        vertical-align: top;\n",
       "    }\n",
       "\n",
       "    .dataframe thead th {\n",
       "        text-align: right;\n",
       "    }\n",
       "</style>\n",
       "<table border=\"1\" class=\"dataframe\">\n",
       "  <thead>\n",
       "    <tr style=\"text-align: right;\">\n",
       "      <th></th>\n",
       "      <th>group_id</th>\n",
       "      <th>planned_time</th>\n",
       "      <th>real_time</th>\n",
       "      <th>travel_cost</th>\n",
       "      <th>delay</th>\n",
       "      <th>delay_in_%</th>\n",
       "      <th>waiting_time</th>\n",
       "      <th>in_trip_time</th>\n",
       "      <th>walks</th>\n",
       "      <th>path</th>\n",
       "    </tr>\n",
       "  </thead>\n",
       "  <tbody>\n",
       "    <tr>\n",
       "      <th>639</th>\n",
       "      <td>412</td>\n",
       "      <td>320</td>\n",
       "      <td>81</td>\n",
       "      <td>69</td>\n",
       "      <td>-239</td>\n",
       "      <td>-74</td>\n",
       "      <td>22</td>\n",
       "      <td>35</td>\n",
       "      <td>0</td>\n",
       "      <td>München Hbf.7723.Departure-&gt;92851.8.Trip-&gt;Münc...</td>\n",
       "    </tr>\n",
       "  </tbody>\n",
       "</table>\n",
       "</div>"
      ],
      "text/plain": [
       "     group_id  planned_time  real_time  travel_cost  delay  delay_in_%  \\\n",
       "639       412           320         81           69   -239         -74   \n",
       "\n",
       "     waiting_time  in_trip_time  walks  \\\n",
       "639            22            35      0   \n",
       "\n",
       "                                                  path  \n",
       "639  München Hbf.7723.Departure->92851.8.Trip->Münc...  "
      ]
     },
     "metadata": {},
     "output_type": "display_data"
    },
    {
     "name": "stdout",
     "output_type": "stream",
     "text": [
      "München Hbf.7723.Departure->92851.8.Trip->München Ost.7731.Arrival->München Ost.7742.Departure->107586.27.Trip->Ottenhofen(Oberbay).7769.Arrival\n",
      "\n",
      "###########################\n",
      "\n",
      "Max delay: 709 min = 11.816666666666666 h:\n"
     ]
    },
    {
     "data": {
      "text/html": [
       "<div>\n",
       "<style scoped>\n",
       "    .dataframe tbody tr th:only-of-type {\n",
       "        vertical-align: middle;\n",
       "    }\n",
       "\n",
       "    .dataframe tbody tr th {\n",
       "        vertical-align: top;\n",
       "    }\n",
       "\n",
       "    .dataframe thead th {\n",
       "        text-align: right;\n",
       "    }\n",
       "</style>\n",
       "<table border=\"1\" class=\"dataframe\">\n",
       "  <thead>\n",
       "    <tr style=\"text-align: right;\">\n",
       "      <th></th>\n",
       "      <th>group_id</th>\n",
       "      <th>planned_time</th>\n",
       "      <th>real_time</th>\n",
       "      <th>travel_cost</th>\n",
       "      <th>delay</th>\n",
       "      <th>delay_in_%</th>\n",
       "      <th>waiting_time</th>\n",
       "      <th>in_trip_time</th>\n",
       "      <th>walks</th>\n",
       "      <th>path</th>\n",
       "    </tr>\n",
       "  </thead>\n",
       "  <tbody>\n",
       "    <tr>\n",
       "      <th>760</th>\n",
       "      <td>289</td>\n",
       "      <td>575</td>\n",
       "      <td>1284</td>\n",
       "      <td>250</td>\n",
       "      <td>709</td>\n",
       "      <td>123</td>\n",
       "      <td>226</td>\n",
       "      <td>708</td>\n",
       "      <td>0</td>\n",
       "      <td>Pottendorf-Landegg.7914.Departure-&gt;59432.38.Tr...</td>\n",
       "    </tr>\n",
       "  </tbody>\n",
       "</table>\n",
       "</div>"
      ],
      "text/plain": [
       "     group_id  planned_time  real_time  travel_cost  delay  delay_in_%  \\\n",
       "760       289           575       1284          250    709         123   \n",
       "\n",
       "     waiting_time  in_trip_time  walks  \\\n",
       "760           226           708      0   \n",
       "\n",
       "                                                  path  \n",
       "760  Pottendorf-Landegg.7914.Departure->59432.38.Tr...  "
      ]
     },
     "metadata": {},
     "output_type": "display_data"
    },
    {
     "name": "stdout",
     "output_type": "stream",
     "text": [
      "Pottendorf-Landegg.7914.Departure->59432.38.Trip->Wien Meidling.7952.Arrival->Wien Meidling.7957.Departure->2193.366.Trip->Feldkirch.8323.Arrival->Feldkirch.8328.Departure->3441.92.Trip->Zürich HB.8420.Arrival->Zürich HB.8434.Departure->75357.53.Trip->Basel SBB.8487.Arrival->Basel SBB.8499.Departure->74563.31.Trip->Mulhouse Ville.8530.Arrival->Mulhouse Ville.8550.Departure->16236.70.Trip->Strasbourg.8620.Arrival->Strasbourg.8959.Departure->16718.58.Trip->Wissembourg.9017.Arrival\n",
      "\n",
      "###########################\n",
      "\n",
      "Average % delay: 24.14463601532567 %\n",
      "Median % delay: 13.0 %\n",
      "Min % delay: -74 %\n",
      "Max % delay: 314 %\n"
     ]
    }
   ],
   "source": [
    "print(\"Total delay:\", df[\"delay\"].sum(), \"min\", \"=\", df[\"delay\"].sum()/60, \"h\")\n",
    "print(\"Average delay:\", np.mean(df[\"delay\"]), \"min\", \"=\", np.mean(df[\"delay\"])/60, \"h\")\n",
    "print(\"Median delay:\", np.median(df[\"delay\"]), \"min\", \"=\", np.median(df[\"delay\"])/60, \"h\")\n",
    "print(\"\\n###########################\\n\")\n",
    "print(\"Min delay:\", df[\"delay\"].min(), \"min\", \"=\", df[\"delay\"].min()/60, \"h:\")\n",
    "display(df[df[\"delay\"] == df[\"delay\"].min()])\n",
    "path = df[df[\"delay\"] == df[\"delay\"].min()][\"path\"].iloc[0]\n",
    "print(path)\n",
    "print(\"\\n###########################\\n\")\n",
    "print(\"Max delay:\", df[\"delay\"].max(), \"min\", \"=\", df[\"delay\"].max()/60, \"h:\")\n",
    "display(df[df[\"delay\"] == df[\"delay\"].max()])\n",
    "path = df[df[\"delay\"] == df[\"delay\"].max()][\"path\"].iloc[0]\n",
    "print(path)\n",
    "print(\"\\n###########################\\n\")\n",
    "print(\"Average % delay:\", np.mean(df[\"delay_in_%\"]), \"%\")\n",
    "print(\"Median % delay:\", np.median(df[\"delay_in_%\"]), \"%\")\n",
    "print(\"Min % delay:\", df[\"delay_in_%\"].min(), \"%\")\n",
    "print(\"Max % delay:\", df[\"delay_in_%\"].max(), \"%\")"
   ]
  },
  {
   "cell_type": "code",
   "execution_count": 110,
   "id": "foster-consent",
   "metadata": {},
   "outputs": [
    {
     "data": {
      "text/plain": [
       "<AxesSubplot:xlabel='delay_in_%', ylabel='Count'>"
      ]
     },
     "execution_count": 110,
     "metadata": {},
     "output_type": "execute_result"
    },
    {
     "data": {
      "image/png": "[encoded data removed]",
      "text/plain": [
       "<Figure size 432x288 with 1 Axes>"
      ]
     },
     "metadata": {
      "needs_background": "light"
     },
     "output_type": "display_data"
    }
   ],
   "source": [
    "sb.histplot(df, x=\"delay_in_%\", bins=range(1, df[\"delay_in_%\"].max()+1))"
   ]
  },
  {
   "cell_type": "code",
   "execution_count": 111,
   "id": "paperback-authority",
   "metadata": {},
   "outputs": [
    {
     "data": {
      "text/plain": [
       "<AxesSubplot:xlabel='delay_in_%', ylabel='Count'>"
      ]
     },
     "execution_count": 111,
     "metadata": {},
     "output_type": "execute_result"
    },
    {
     "data": {
      "image/png": "[encoded data removed]",
      "text/plain": [
       "<Figure size 432x288 with 1 Axes>"
      ]
     },
     "metadata": {
      "needs_background": "light"
     },
     "output_type": "display_data"
    }
   ],
   "source": [
    "sb.histplot(df, x=\"delay_in_%\", bins=range(1, sorted(df[\"delay_in_%\"])[-10]+1))"
   ]
  },
  {
   "cell_type": "markdown",
   "id": "average-springer",
   "metadata": {},
   "source": [
    "# Calculate different travel cost metrics"
   ]
  },
  {
   "cell_type": "code",
   "execution_count": 112,
   "id": "fixed-truck",
   "metadata": {},
   "outputs": [
    {
     "name": "stdout",
     "output_type": "stream",
     "text": [
      "Total travel cost: 121518\n",
      "Average travel cost: 116.39655172413794\n",
      "Median travel cost: 106.0\n",
      "Min travel cost: 7\n",
      "Max travel cost: 360\n"
     ]
    }
   ],
   "source": [
    "print(\"Total travel cost:\", df[\"travel_cost\"].sum())\n",
    "print(\"Average travel cost:\", np.mean(df[\"travel_cost\"]))\n",
    "print(\"Median travel cost:\", np.median(df[\"travel_cost\"]))\n",
    "print(\"Min travel cost:\", df[\"travel_cost\"].min())\n",
    "print(\"Max travel cost:\", df[\"travel_cost\"].max())"
   ]
  },
  {
   "cell_type": "code",
   "execution_count": 113,
   "id": "sublime-listing",
   "metadata": {},
   "outputs": [
    {
     "name": "stdout",
     "output_type": "stream",
     "text": [
      "Total number of walks: 900\n",
      "Average number of walks: 0.8620689655172413\n",
      "Median number of walks: 1.0\n",
      "Min number of walks: 0\n",
      "Max number of walks: 4\n"
     ]
    }
   ],
   "source": [
    "print(\"Total number of walks:\", df[\"walks\"].sum())\n",
    "print(\"Average number of walks:\", np.mean(df[\"walks\"]))\n",
    "print(\"Median number of walks:\", np.median(df[\"walks\"]))\n",
    "print(\"Min number of walks:\", df[\"walks\"].min())\n",
    "print(\"Max number of walks:\", df[\"walks\"].max())"
   ]
  },
  {
   "cell_type": "code",
   "execution_count": 114,
   "id": "spare-dispute",
   "metadata": {},
   "outputs": [
    {
     "name": "stdout",
     "output_type": "stream",
     "text": [
      "Total waiting time: 39077\n",
      "Average waiting time: 37.43007662835249\n",
      "Median waiting time: 27.0\n",
      "Min waiting time: 0\n",
      "Max waiting time: 402\n"
     ]
    }
   ],
   "source": [
    "print(\"Total waiting time:\", df[\"waiting_time\"].sum())\n",
    "print(\"Average waiting time:\", np.mean(df[\"waiting_time\"]))\n",
    "print(\"Median waiting time:\", np.median(df[\"waiting_time\"]))\n",
    "print(\"Min waiting time:\", df[\"waiting_time\"].min())\n",
    "print(\"Max waiting time:\", df[\"waiting_time\"].max())"
   ]
  },
  {
   "cell_type": "code",
   "execution_count": 115,
   "id": "boolean-january",
   "metadata": {},
   "outputs": [
    {
     "name": "stdout",
     "output_type": "stream",
     "text": [
      "Total time in train: 202650\n",
      "Average time in train: 194.10919540229884\n",
      "Median time in train: 173.0\n",
      "Min time in train: 2\n",
      "Max time in train: 708\n"
     ]
    }
   ],
   "source": [
    "print(\"Total time in train:\", df[\"in_trip_time\"].sum())\n",
    "print(\"Average time in train:\", np.mean(df[\"in_trip_time\"]))\n",
    "print(\"Median time in train:\", np.median(df[\"in_trip_time\"]))\n",
    "print(\"Min time in train:\", df[\"in_trip_time\"].min())\n",
    "print(\"Max time in train:\", df[\"in_trip_time\"].max())"
   ]
  },
  {
   "cell_type": "markdown",
   "id": "aging-torture",
   "metadata": {},
   "source": [
    "# Calculate different edge cost metrics"
   ]
  },
  {
   "cell_type": "code",
   "execution_count": 116,
   "id": "apart-miracle",
   "metadata": {},
   "outputs": [
    {
     "data": {
      "text/html": [
       "<div>\n",
       "<style scoped>\n",
       "    .dataframe tbody tr th:only-of-type {\n",
       "        vertical-align: middle;\n",
       "    }\n",
       "\n",
       "    .dataframe tbody tr th {\n",
       "        vertical-align: top;\n",
       "    }\n",
       "\n",
       "    .dataframe thead th {\n",
       "        text-align: right;\n",
       "    }\n",
       "</style>\n",
       "<table border=\"1\" class=\"dataframe\">\n",
       "  <thead>\n",
       "    <tr style=\"text-align: right;\">\n",
       "      <th></th>\n",
       "      <th>edge_index</th>\n",
       "      <th>duration</th>\n",
       "      <th>capacity</th>\n",
       "      <th>utilization</th>\n",
       "    </tr>\n",
       "  </thead>\n",
       "  <tbody>\n",
       "    <tr>\n",
       "      <th>0</th>\n",
       "      <td>EdgeIndex(2562607)</td>\n",
       "      <td>1</td>\n",
       "      <td>447</td>\n",
       "      <td>14</td>\n",
       "    </tr>\n",
       "    <tr>\n",
       "      <th>1</th>\n",
       "      <td>EdgeIndex(58565)</td>\n",
       "      <td>2</td>\n",
       "      <td>375</td>\n",
       "      <td>15</td>\n",
       "    </tr>\n",
       "    <tr>\n",
       "      <th>2</th>\n",
       "      <td>EdgeIndex(3062665)</td>\n",
       "      <td>6</td>\n",
       "      <td>133</td>\n",
       "      <td>27</td>\n",
       "    </tr>\n",
       "    <tr>\n",
       "      <th>3</th>\n",
       "      <td>EdgeIndex(2828349)</td>\n",
       "      <td>4</td>\n",
       "      <td>230</td>\n",
       "      <td>5</td>\n",
       "    </tr>\n",
       "    <tr>\n",
       "      <th>4</th>\n",
       "      <td>EdgeIndex(345657)</td>\n",
       "      <td>4</td>\n",
       "      <td>146</td>\n",
       "      <td>11</td>\n",
       "    </tr>\n",
       "    <tr>\n",
       "      <th>...</th>\n",
       "      <td>...</td>\n",
       "      <td>...</td>\n",
       "      <td>...</td>\n",
       "      <td>...</td>\n",
       "    </tr>\n",
       "    <tr>\n",
       "      <th>3415</th>\n",
       "      <td>EdgeIndex(2602593)</td>\n",
       "      <td>2</td>\n",
       "      <td>256</td>\n",
       "      <td>1</td>\n",
       "    </tr>\n",
       "    <tr>\n",
       "      <th>3416</th>\n",
       "      <td>EdgeIndex(2602591)</td>\n",
       "      <td>2</td>\n",
       "      <td>256</td>\n",
       "      <td>2</td>\n",
       "    </tr>\n",
       "    <tr>\n",
       "      <th>3417</th>\n",
       "      <td>EdgeIndex(1745923)</td>\n",
       "      <td>3</td>\n",
       "      <td>143</td>\n",
       "      <td>50</td>\n",
       "    </tr>\n",
       "    <tr>\n",
       "      <th>3418</th>\n",
       "      <td>EdgeIndex(2589929)</td>\n",
       "      <td>2</td>\n",
       "      <td>342</td>\n",
       "      <td>17</td>\n",
       "    </tr>\n",
       "    <tr>\n",
       "      <th>3419</th>\n",
       "      <td>EdgeIndex(3446287)</td>\n",
       "      <td>11</td>\n",
       "      <td>236</td>\n",
       "      <td>4</td>\n",
       "    </tr>\n",
       "  </tbody>\n",
       "</table>\n",
       "<p>3420 rows × 4 columns</p>\n",
       "</div>"
      ],
      "text/plain": [
       "              edge_index  duration  capacity  utilization\n",
       "0     EdgeIndex(2562607)         1       447           14\n",
       "1       EdgeIndex(58565)         2       375           15\n",
       "2     EdgeIndex(3062665)         6       133           27\n",
       "3     EdgeIndex(2828349)         4       230            5\n",
       "4      EdgeIndex(345657)         4       146           11\n",
       "...                  ...       ...       ...          ...\n",
       "3415  EdgeIndex(2602593)         2       256            1\n",
       "3416  EdgeIndex(2602591)         2       256            2\n",
       "3417  EdgeIndex(1745923)         3       143           50\n",
       "3418  EdgeIndex(2589929)         2       342           17\n",
       "3419  EdgeIndex(3446287)        11       236            4\n",
       "\n",
       "[3420 rows x 4 columns]"
      ]
     },
     "execution_count": 116,
     "metadata": {},
     "output_type": "execute_result"
    }
   ],
   "source": [
    "df = pd.read_csv(\"edges.csv\", sep=\"|\")\n",
    "df"
   ]
  },
  {
   "cell_type": "code",
   "execution_count": 117,
   "id": "boring-absorption",
   "metadata": {},
   "outputs": [
    {
     "name": "stdout",
     "output_type": "stream",
     "text": [
      "Number of strained trip edges: 3420\n",
      "Number of strained trip edges with utilization > capacity: 174\n",
      "Total overload (only edges with utilization > capacity): 1245\n",
      "Average overload (only edges with utilization > capacity): 7.155172413793103\n",
      "Max overload of one edge: 42\n"
     ]
    },
    {
     "data": {
      "text/html": [
       "<div>\n",
       "<style scoped>\n",
       "    .dataframe tbody tr th:only-of-type {\n",
       "        vertical-align: middle;\n",
       "    }\n",
       "\n",
       "    .dataframe tbody tr th {\n",
       "        vertical-align: top;\n",
       "    }\n",
       "\n",
       "    .dataframe thead th {\n",
       "        text-align: right;\n",
       "    }\n",
       "</style>\n",
       "<table border=\"1\" class=\"dataframe\">\n",
       "  <thead>\n",
       "    <tr style=\"text-align: right;\">\n",
       "      <th></th>\n",
       "      <th>edge_index</th>\n",
       "      <th>duration</th>\n",
       "      <th>capacity</th>\n",
       "      <th>utilization</th>\n",
       "      <th>overload</th>\n",
       "    </tr>\n",
       "  </thead>\n",
       "  <tbody>\n",
       "    <tr>\n",
       "      <th>49</th>\n",
       "      <td>EdgeIndex(324155)</td>\n",
       "      <td>10</td>\n",
       "      <td>0</td>\n",
       "      <td>9</td>\n",
       "      <td>9</td>\n",
       "    </tr>\n",
       "    <tr>\n",
       "      <th>82</th>\n",
       "      <td>EdgeIndex(3415731)</td>\n",
       "      <td>31</td>\n",
       "      <td>0</td>\n",
       "      <td>2</td>\n",
       "      <td>2</td>\n",
       "    </tr>\n",
       "    <tr>\n",
       "      <th>94</th>\n",
       "      <td>EdgeIndex(3390441)</td>\n",
       "      <td>90</td>\n",
       "      <td>2</td>\n",
       "      <td>5</td>\n",
       "      <td>3</td>\n",
       "    </tr>\n",
       "    <tr>\n",
       "      <th>118</th>\n",
       "      <td>EdgeIndex(3487723)</td>\n",
       "      <td>3</td>\n",
       "      <td>0</td>\n",
       "      <td>2</td>\n",
       "      <td>2</td>\n",
       "    </tr>\n",
       "    <tr>\n",
       "      <th>121</th>\n",
       "      <td>EdgeIndex(1734557)</td>\n",
       "      <td>31</td>\n",
       "      <td>0</td>\n",
       "      <td>5</td>\n",
       "      <td>5</td>\n",
       "    </tr>\n",
       "    <tr>\n",
       "      <th>...</th>\n",
       "      <td>...</td>\n",
       "      <td>...</td>\n",
       "      <td>...</td>\n",
       "      <td>...</td>\n",
       "      <td>...</td>\n",
       "    </tr>\n",
       "    <tr>\n",
       "      <th>3309</th>\n",
       "      <td>EdgeIndex(3394419)</td>\n",
       "      <td>52</td>\n",
       "      <td>0</td>\n",
       "      <td>1</td>\n",
       "      <td>1</td>\n",
       "    </tr>\n",
       "    <tr>\n",
       "      <th>3324</th>\n",
       "      <td>EdgeIndex(3390069)</td>\n",
       "      <td>4</td>\n",
       "      <td>0</td>\n",
       "      <td>23</td>\n",
       "      <td>23</td>\n",
       "    </tr>\n",
       "    <tr>\n",
       "      <th>3332</th>\n",
       "      <td>EdgeIndex(1767105)</td>\n",
       "      <td>29</td>\n",
       "      <td>0</td>\n",
       "      <td>10</td>\n",
       "      <td>10</td>\n",
       "    </tr>\n",
       "    <tr>\n",
       "      <th>3366</th>\n",
       "      <td>EdgeIndex(3411413)</td>\n",
       "      <td>30</td>\n",
       "      <td>0</td>\n",
       "      <td>2</td>\n",
       "      <td>2</td>\n",
       "    </tr>\n",
       "    <tr>\n",
       "      <th>3367</th>\n",
       "      <td>EdgeIndex(1732973)</td>\n",
       "      <td>8</td>\n",
       "      <td>0</td>\n",
       "      <td>8</td>\n",
       "      <td>8</td>\n",
       "    </tr>\n",
       "  </tbody>\n",
       "</table>\n",
       "<p>174 rows × 5 columns</p>\n",
       "</div>"
      ],
      "text/plain": [
       "              edge_index  duration  capacity  utilization  overload\n",
       "49     EdgeIndex(324155)        10         0            9         9\n",
       "82    EdgeIndex(3415731)        31         0            2         2\n",
       "94    EdgeIndex(3390441)        90         2            5         3\n",
       "118   EdgeIndex(3487723)         3         0            2         2\n",
       "121   EdgeIndex(1734557)        31         0            5         5\n",
       "...                  ...       ...       ...          ...       ...\n",
       "3309  EdgeIndex(3394419)        52         0            1         1\n",
       "3324  EdgeIndex(3390069)         4         0           23        23\n",
       "3332  EdgeIndex(1767105)        29         0           10        10\n",
       "3366  EdgeIndex(3411413)        30         0            2         2\n",
       "3367  EdgeIndex(1732973)         8         0            8         8\n",
       "\n",
       "[174 rows x 5 columns]"
      ]
     },
     "execution_count": 117,
     "metadata": {},
     "output_type": "execute_result"
    }
   ],
   "source": [
    "print(\"Number of strained trip edges:\", len(df))\n",
    "df_filtered = df[df['capacity'] < df['utilization']].loc[:]\n",
    "print(\"Number of strained trip edges with utilization > capacity:\", len(df_filtered))\n",
    "df_filtered[\"overload\"] = df_filtered[\"utilization\"]-df_filtered[\"capacity\"]\n",
    "total_overload = df_filtered[\"overload\"].sum()\n",
    "print(\"Total overload (only edges with utilization > capacity):\", total_overload)\n",
    "print(\"Average overload (only edges with utilization > capacity):\", total_overload/len(df_filtered))\n",
    "print(\"Max overload of one edge:\", df_filtered[\"overload\"].max())\n",
    "df_filtered"
   ]
  },
  {
   "cell_type": "code",
   "execution_count": 118,
   "id": "limiting-programming",
   "metadata": {},
   "outputs": [
    {
     "data": {
      "text/plain": [
       "<AxesSubplot:xlabel='overload', ylabel='Count'>"
      ]
     },
     "execution_count": 118,
     "metadata": {},
     "output_type": "execute_result"
    },
    {
     "data": {
      "image/png": "[encoded data removed]",
      "text/plain": [
       "<Figure size 432x288 with 1 Axes>"
      ]
     },
     "metadata": {
      "needs_background": "light"
     },
     "output_type": "display_data"
    }
   ],
   "source": [
    "sb.histplot(df_filtered, x=\"overload\", bins=range(1, df_filtered[\"overload\"].max()+1))"
   ]
  },
  {
   "cell_type": "code",
   "execution_count": null,
   "id": "comparable-oregon",
   "metadata": {},
   "outputs": [],
   "source": []
  }
 ],
 "metadata": {
  "kernelspec": {
   "display_name": "Python 3",
   "language": "python",
   "name": "python3"
  },
  "language_info": {
   "codemirror_mode": {
    "name": "ipython",
    "version": 3
   },
   "file_extension": ".py",
   "mimetype": "text/x-python",
   "name": "python",
   "nbconvert_exporter": "python",
   "pygments_lexer": "ipython3",
   "version": "3.9.2"
  }
 },
 "nbformat": 4,
 "nbformat_minor": 5
}
