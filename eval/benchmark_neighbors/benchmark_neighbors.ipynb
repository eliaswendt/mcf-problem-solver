{
 "cells": [
  {
   "cell_type": "code",
   "execution_count": 91,
   "id": "searching-practice",
   "metadata": {},
   "outputs": [
    {
     "data": {
      "text/plain": [
       "<Figure size 1152x648 with 0 Axes>"
      ]
     },
     "execution_count": 91,
     "metadata": {},
     "output_type": "execute_result"
    },
    {
     "data": {
      "text/plain": [
       "<Figure size 1152x648 with 0 Axes>"
      ]
     },
     "metadata": {},
     "output_type": "display_data"
    }
   ],
   "source": [
    "import numpy as np; np.random.seed(0)\n",
    "import seaborn as sns; sns.set_theme()\n",
    "import pandas as pd\n",
    "import matplotlib.pyplot as plt\n",
    "plt.figure(figsize=(16, 9))\n"
   ]
  },
  {
   "cell_type": "code",
   "execution_count": 88,
   "id": "extended-detector",
   "metadata": {},
   "outputs": [
    {
     "data": {
      "text/html": [
       "<div>\n",
       "<style scoped>\n",
       "    .dataframe tbody tr th:only-of-type {\n",
       "        vertical-align: middle;\n",
       "    }\n",
       "\n",
       "    .dataframe tbody tr th {\n",
       "        vertical-align: top;\n",
       "    }\n",
       "\n",
       "    .dataframe thead th {\n",
       "        text-align: right;\n",
       "    }\n",
       "</style>\n",
       "<table border=\"1\" class=\"dataframe\">\n",
       "  <thead>\n",
       "    <tr style=\"text-align: right;\">\n",
       "      <th></th>\n",
       "      <th></th>\n",
       "      <th>cost</th>\n",
       "      <th>strained_edges_cost</th>\n",
       "      <th>travel_cost</th>\n",
       "      <th>travel_delay</th>\n",
       "      <th>sum_path_len</th>\n",
       "    </tr>\n",
       "    <tr>\n",
       "      <th>group_index</th>\n",
       "      <th>path_index</th>\n",
       "      <th></th>\n",
       "      <th></th>\n",
       "      <th></th>\n",
       "      <th></th>\n",
       "      <th></th>\n",
       "    </tr>\n",
       "  </thead>\n",
       "  <tbody>\n",
       "    <tr>\n",
       "      <th rowspan=\"5\" valign=\"top\">0</th>\n",
       "      <th>0</th>\n",
       "      <td>39193</td>\n",
       "      <td>14179</td>\n",
       "      <td>2588</td>\n",
       "      <td>22426</td>\n",
       "      <td>3122</td>\n",
       "    </tr>\n",
       "    <tr>\n",
       "      <th>1</th>\n",
       "      <td>39193</td>\n",
       "      <td>14179</td>\n",
       "      <td>2588</td>\n",
       "      <td>22426</td>\n",
       "      <td>3122</td>\n",
       "    </tr>\n",
       "    <tr>\n",
       "      <th>2</th>\n",
       "      <td>39196</td>\n",
       "      <td>14179</td>\n",
       "      <td>2591</td>\n",
       "      <td>22426</td>\n",
       "      <td>3123</td>\n",
       "    </tr>\n",
       "    <tr>\n",
       "      <th>3</th>\n",
       "      <td>39219</td>\n",
       "      <td>14179</td>\n",
       "      <td>2594</td>\n",
       "      <td>22446</td>\n",
       "      <td>3123</td>\n",
       "    </tr>\n",
       "    <tr>\n",
       "      <th>4</th>\n",
       "      <td>39200</td>\n",
       "      <td>14179</td>\n",
       "      <td>2595</td>\n",
       "      <td>22426</td>\n",
       "      <td>3123</td>\n",
       "    </tr>\n",
       "    <tr>\n",
       "      <th>...</th>\n",
       "      <th>...</th>\n",
       "      <td>...</td>\n",
       "      <td>...</td>\n",
       "      <td>...</td>\n",
       "      <td>...</td>\n",
       "      <td>...</td>\n",
       "    </tr>\n",
       "    <tr>\n",
       "      <th rowspan=\"5\" valign=\"top\">93</th>\n",
       "      <th>159</th>\n",
       "      <td>39261</td>\n",
       "      <td>14181</td>\n",
       "      <td>2611</td>\n",
       "      <td>22469</td>\n",
       "      <td>3135</td>\n",
       "    </tr>\n",
       "    <tr>\n",
       "      <th>160</th>\n",
       "      <td>39367</td>\n",
       "      <td>14179</td>\n",
       "      <td>2611</td>\n",
       "      <td>22577</td>\n",
       "      <td>3151</td>\n",
       "    </tr>\n",
       "    <tr>\n",
       "      <th>161</th>\n",
       "      <td>39367</td>\n",
       "      <td>14179</td>\n",
       "      <td>2611</td>\n",
       "      <td>22577</td>\n",
       "      <td>3133</td>\n",
       "    </tr>\n",
       "    <tr>\n",
       "      <th>162</th>\n",
       "      <td>39367</td>\n",
       "      <td>14179</td>\n",
       "      <td>2611</td>\n",
       "      <td>22577</td>\n",
       "      <td>3129</td>\n",
       "    </tr>\n",
       "    <tr>\n",
       "      <th>163</th>\n",
       "      <td>39367</td>\n",
       "      <td>14179</td>\n",
       "      <td>2611</td>\n",
       "      <td>22577</td>\n",
       "      <td>3147</td>\n",
       "    </tr>\n",
       "  </tbody>\n",
       "</table>\n",
       "<p>13902 rows × 5 columns</p>\n",
       "</div>"
      ],
      "text/plain": [
       "                         cost  strained_edges_cost  travel_cost  travel_delay  \\\n",
       "group_index path_index                                                          \n",
       "0           0           39193                14179         2588         22426   \n",
       "            1           39193                14179         2588         22426   \n",
       "            2           39196                14179         2591         22426   \n",
       "            3           39219                14179         2594         22446   \n",
       "            4           39200                14179         2595         22426   \n",
       "...                       ...                  ...          ...           ...   \n",
       "93          159         39261                14181         2611         22469   \n",
       "            160         39367                14179         2611         22577   \n",
       "            161         39367                14179         2611         22577   \n",
       "            162         39367                14179         2611         22577   \n",
       "            163         39367                14179         2611         22577   \n",
       "\n",
       "                        sum_path_len  \n",
       "group_index path_index                \n",
       "0           0                   3122  \n",
       "            1                   3122  \n",
       "            2                   3123  \n",
       "            3                   3123  \n",
       "            4                   3123  \n",
       "...                              ...  \n",
       "93          159                 3135  \n",
       "            160                 3151  \n",
       "            161                 3133  \n",
       "            162                 3129  \n",
       "            163                 3147  \n",
       "\n",
       "[13902 rows x 5 columns]"
      ]
     },
     "execution_count": 88,
     "metadata": {},
     "output_type": "execute_result"
    }
   ],
   "source": [
    "df = pd.read_csv(\"iteration_0.csv\", index_col=['group_index', 'path_index'])\n",
    "initial_state = df.iloc[0]\n",
    "neighbors = df.iloc[1:]\n",
    "neighbors"
   ]
  },
  {
   "cell_type": "code",
   "execution_count": 95,
   "id": "spare-stranger",
   "metadata": {},
   "outputs": [
    {
     "data": {
      "text/plain": [
       "<AxesSubplot:xlabel='path_index'>"
      ]
     },
     "execution_count": 95,
     "metadata": {},
     "output_type": "execute_result"
    },
    {
     "data": {
      "image/png": "[encoded data removed]",
      "text/plain": [
       "<Figure size 432x288 with 1 Axes>"
      ]
     },
     "metadata": {},
     "output_type": "display_data"
    }
   ],
   "source": [
    "neighbors.loc[0].plot(y=['strained_edges_cost'], logy=True)\n",
    "#df.loc['group_index', :]\n",
    "#df.loc['group_index']\n",
    "#df.sort_index(inplace=True)\n",
    "#df.unstack(level=0)"
   ]
  },
  {
   "cell_type": "code",
   "execution_count": 77,
   "id": "following-window",
   "metadata": {},
   "outputs": [
    {
     "ename": "ValueError",
     "evalue": "Length of list vectors must match length of `data` when both are used, but `data` has length 13902 and the vector passed to `x` has length 2.",
     "output_type": "error",
     "traceback": [
      "\u001b[0;31m---------------------------------------------------------------------------\u001b[0m",
      "\u001b[0;31mValueError\u001b[0m                                Traceback (most recent call last)",
      "\u001b[0;32m<ipython-input-77-391883145791>\u001b[0m in \u001b[0;36m<module>\u001b[0;34m\u001b[0m\n\u001b[1;32m      3\u001b[0m \u001b[0;34m\u001b[0m\u001b[0m\n\u001b[1;32m      4\u001b[0m \u001b[0;31m#sns.heatmap(df.unstack(level=0))\u001b[0m\u001b[0;34m\u001b[0m\u001b[0;34m\u001b[0m\u001b[0;34m\u001b[0m\u001b[0m\n\u001b[0;32m----> 5\u001b[0;31m \u001b[0msns\u001b[0m\u001b[0;34m.\u001b[0m\u001b[0mhistplot\u001b[0m\u001b[0;34m(\u001b[0m\u001b[0mneighbors\u001b[0m\u001b[0;34m,\u001b[0m \u001b[0mx\u001b[0m\u001b[0;34m=\u001b[0m\u001b[0;34m[\u001b[0m\u001b[0;34m'group_index'\u001b[0m\u001b[0;34m,\u001b[0m \u001b[0;34m'path_index'\u001b[0m\u001b[0;34m]\u001b[0m\u001b[0;34m,\u001b[0m \u001b[0my\u001b[0m\u001b[0;34m=\u001b[0m\u001b[0;34m'travel_cost'\u001b[0m\u001b[0;34m,\u001b[0m \u001b[0mbinwidth\u001b[0m\u001b[0;34m=\u001b[0m\u001b[0;36m1\u001b[0m\u001b[0;34m)\u001b[0m\u001b[0;34m\u001b[0m\u001b[0;34m\u001b[0m\u001b[0m\n\u001b[0m",
      "\u001b[0;32m~/git/praktikum-algorithmik/eval/venv/lib/python3.9/site-packages/seaborn/distributions.py\u001b[0m in \u001b[0;36mhistplot\u001b[0;34m(data, x, y, hue, weights, stat, bins, binwidth, binrange, discrete, cumulative, common_bins, common_norm, multiple, element, fill, shrink, kde, kde_kws, line_kws, thresh, pthresh, pmax, cbar, cbar_ax, cbar_kws, palette, hue_order, hue_norm, color, log_scale, legend, ax, **kwargs)\u001b[0m\n\u001b[1;32m   1389\u001b[0m ):\n\u001b[1;32m   1390\u001b[0m \u001b[0;34m\u001b[0m\u001b[0m\n\u001b[0;32m-> 1391\u001b[0;31m     p = _DistributionPlotter(\n\u001b[0m\u001b[1;32m   1392\u001b[0m         \u001b[0mdata\u001b[0m\u001b[0;34m=\u001b[0m\u001b[0mdata\u001b[0m\u001b[0;34m,\u001b[0m\u001b[0;34m\u001b[0m\u001b[0;34m\u001b[0m\u001b[0m\n\u001b[1;32m   1393\u001b[0m         \u001b[0mvariables\u001b[0m\u001b[0;34m=\u001b[0m\u001b[0m_DistributionPlotter\u001b[0m\u001b[0;34m.\u001b[0m\u001b[0mget_semantics\u001b[0m\u001b[0;34m(\u001b[0m\u001b[0mlocals\u001b[0m\u001b[0;34m(\u001b[0m\u001b[0;34m)\u001b[0m\u001b[0;34m)\u001b[0m\u001b[0;34m\u001b[0m\u001b[0;34m\u001b[0m\u001b[0m\n",
      "\u001b[0;32m~/git/praktikum-algorithmik/eval/venv/lib/python3.9/site-packages/seaborn/distributions.py\u001b[0m in \u001b[0;36m__init__\u001b[0;34m(self, data, variables)\u001b[0m\n\u001b[1;32m    107\u001b[0m     ):\n\u001b[1;32m    108\u001b[0m \u001b[0;34m\u001b[0m\u001b[0m\n\u001b[0;32m--> 109\u001b[0;31m         \u001b[0msuper\u001b[0m\u001b[0;34m(\u001b[0m\u001b[0;34m)\u001b[0m\u001b[0;34m.\u001b[0m\u001b[0m__init__\u001b[0m\u001b[0;34m(\u001b[0m\u001b[0mdata\u001b[0m\u001b[0;34m=\u001b[0m\u001b[0mdata\u001b[0m\u001b[0;34m,\u001b[0m \u001b[0mvariables\u001b[0m\u001b[0;34m=\u001b[0m\u001b[0mvariables\u001b[0m\u001b[0;34m)\u001b[0m\u001b[0;34m\u001b[0m\u001b[0;34m\u001b[0m\u001b[0m\n\u001b[0m\u001b[1;32m    110\u001b[0m \u001b[0;34m\u001b[0m\u001b[0m\n\u001b[1;32m    111\u001b[0m     \u001b[0;34m@\u001b[0m\u001b[0mproperty\u001b[0m\u001b[0;34m\u001b[0m\u001b[0;34m\u001b[0m\u001b[0m\n",
      "\u001b[0;32m~/git/praktikum-algorithmik/eval/venv/lib/python3.9/site-packages/seaborn/_core.py\u001b[0m in \u001b[0;36m__init__\u001b[0;34m(self, data, variables)\u001b[0m\n\u001b[1;32m    602\u001b[0m     \u001b[0;32mdef\u001b[0m \u001b[0m__init__\u001b[0m\u001b[0;34m(\u001b[0m\u001b[0mself\u001b[0m\u001b[0;34m,\u001b[0m \u001b[0mdata\u001b[0m\u001b[0;34m=\u001b[0m\u001b[0;32mNone\u001b[0m\u001b[0;34m,\u001b[0m \u001b[0mvariables\u001b[0m\u001b[0;34m=\u001b[0m\u001b[0;34m{\u001b[0m\u001b[0;34m}\u001b[0m\u001b[0;34m)\u001b[0m\u001b[0;34m:\u001b[0m\u001b[0;34m\u001b[0m\u001b[0;34m\u001b[0m\u001b[0m\n\u001b[1;32m    603\u001b[0m \u001b[0;34m\u001b[0m\u001b[0m\n\u001b[0;32m--> 604\u001b[0;31m         \u001b[0mself\u001b[0m\u001b[0;34m.\u001b[0m\u001b[0massign_variables\u001b[0m\u001b[0;34m(\u001b[0m\u001b[0mdata\u001b[0m\u001b[0;34m,\u001b[0m \u001b[0mvariables\u001b[0m\u001b[0;34m)\u001b[0m\u001b[0;34m\u001b[0m\u001b[0;34m\u001b[0m\u001b[0m\n\u001b[0m\u001b[1;32m    605\u001b[0m \u001b[0;34m\u001b[0m\u001b[0m\n\u001b[1;32m    606\u001b[0m         \u001b[0;32mfor\u001b[0m \u001b[0mvar\u001b[0m\u001b[0;34m,\u001b[0m \u001b[0mcls\u001b[0m \u001b[0;32min\u001b[0m \u001b[0mself\u001b[0m\u001b[0;34m.\u001b[0m\u001b[0m_semantic_mappings\u001b[0m\u001b[0;34m.\u001b[0m\u001b[0mitems\u001b[0m\u001b[0;34m(\u001b[0m\u001b[0;34m)\u001b[0m\u001b[0;34m:\u001b[0m\u001b[0;34m\u001b[0m\u001b[0;34m\u001b[0m\u001b[0m\n",
      "\u001b[0;32m~/git/praktikum-algorithmik/eval/venv/lib/python3.9/site-packages/seaborn/_core.py\u001b[0m in \u001b[0;36massign_variables\u001b[0;34m(self, data, variables)\u001b[0m\n\u001b[1;32m    665\u001b[0m         \u001b[0;32melse\u001b[0m\u001b[0;34m:\u001b[0m\u001b[0;34m\u001b[0m\u001b[0;34m\u001b[0m\u001b[0m\n\u001b[1;32m    666\u001b[0m             \u001b[0mself\u001b[0m\u001b[0;34m.\u001b[0m\u001b[0minput_format\u001b[0m \u001b[0;34m=\u001b[0m \u001b[0;34m\"long\"\u001b[0m\u001b[0;34m\u001b[0m\u001b[0;34m\u001b[0m\u001b[0m\n\u001b[0;32m--> 667\u001b[0;31m             plot_data, variables = self._assign_variables_longform(\n\u001b[0m\u001b[1;32m    668\u001b[0m                 \u001b[0mdata\u001b[0m\u001b[0;34m,\u001b[0m \u001b[0;34m**\u001b[0m\u001b[0mvariables\u001b[0m\u001b[0;34m,\u001b[0m\u001b[0;34m\u001b[0m\u001b[0;34m\u001b[0m\u001b[0m\n\u001b[1;32m    669\u001b[0m             )\n",
      "\u001b[0;32m~/git/praktikum-algorithmik/eval/venv/lib/python3.9/site-packages/seaborn/_core.py\u001b[0m in \u001b[0;36m_assign_variables_longform\u001b[0;34m(self, data, **kwargs)\u001b[0m\n\u001b[1;32m    915\u001b[0m                             \u001b[0;34mf\" and the vector passed to `{key}` has length {len(val)}.\"\u001b[0m\u001b[0;34m\u001b[0m\u001b[0;34m\u001b[0m\u001b[0m\n\u001b[1;32m    916\u001b[0m                         )\n\u001b[0;32m--> 917\u001b[0;31m                         \u001b[0;32mraise\u001b[0m \u001b[0mValueError\u001b[0m\u001b[0;34m(\u001b[0m\u001b[0merr\u001b[0m\u001b[0;34m)\u001b[0m\u001b[0;34m\u001b[0m\u001b[0;34m\u001b[0m\u001b[0m\n\u001b[0m\u001b[1;32m    918\u001b[0m \u001b[0;34m\u001b[0m\u001b[0m\n\u001b[1;32m    919\u001b[0m                 \u001b[0mplot_data\u001b[0m\u001b[0;34m[\u001b[0m\u001b[0mkey\u001b[0m\u001b[0;34m]\u001b[0m \u001b[0;34m=\u001b[0m \u001b[0mval\u001b[0m\u001b[0;34m\u001b[0m\u001b[0;34m\u001b[0m\u001b[0m\n",
      "\u001b[0;31mValueError\u001b[0m: Length of list vectors must match length of `data` when both are used, but `data` has length 13902 and the vector passed to `x` has length 2."
     ]
    },
    {
     "data": {
      "text/plain": [
       "<Figure size 1152x648 with 0 Axes>"
      ]
     },
     "metadata": {},
     "output_type": "display_data"
    }
   ],
   "source": [
    "plt.figure(figsize=(16, 9))\n",
    "# df.plot(y='cost', figsize=(16, 9))\n",
    "\n",
    "#sns.heatmap(df.unstack(level=0))\n",
    "sns.histplot(neighbors, x=['group_index', 'path_index'], y='travel_cost', binwidth=1)"
   ]
  },
  {
   "cell_type": "code",
   "execution_count": 93,
   "id": "opened-coordination",
   "metadata": {},
   "outputs": [
    {
     "data": {
      "image/png": "[encoded data removed]",
      "text/plain": [
       "<Figure size 432x288 with 1 Axes>"
      ]
     },
     "metadata": {},
     "output_type": "display_data"
    }
   ],
   "source": [
    "plots = list()\n",
    "for i in range(0, 1):\n",
    "    df = pd.read_csv(\"iteration_{}.csv\".format(i))\n",
    "    sns.histplot(df, x='cost', binwidth=10, log_scale=(False, True)).plot()\n"
   ]
  },
  {
   "cell_type": "code",
   "execution_count": 8,
   "id": "surprised-binding",
   "metadata": {},
   "outputs": [
    {
     "data": {
      "text/plain": [
       "array([[0.72525428, 0.50132438, 0.95608363, 0.6439902 , 0.42385505,\n",
       "        0.60639321, 0.0191932 , 0.30157482, 0.66017354, 0.29007761,\n",
       "        0.61801543, 0.4287687 ],\n",
       "       [0.13547406, 0.29828233, 0.56996491, 0.59087276, 0.57432525,\n",
       "        0.65320082, 0.65210327, 0.43141844, 0.8965466 , 0.36756187,\n",
       "        0.43586493, 0.89192336],\n",
       "       [0.80619399, 0.70388858, 0.10022689, 0.91948261, 0.7142413 ,\n",
       "        0.99884701, 0.1494483 , 0.86812606, 0.16249293, 0.61555956,\n",
       "        0.12381998, 0.84800823],\n",
       "       [0.80731896, 0.56910074, 0.4071833 , 0.069167  , 0.69742877,\n",
       "        0.45354268, 0.7220556 , 0.86638233, 0.97552151, 0.85580334,\n",
       "        0.01171408, 0.35997806],\n",
       "       [0.72999056, 0.17162968, 0.52103661, 0.05433799, 0.19999652,\n",
       "        0.01852179, 0.7936977 , 0.22392469, 0.34535168, 0.92808129,\n",
       "        0.7044144 , 0.03183893],\n",
       "       [0.16469416, 0.6214784 , 0.57722859, 0.23789282, 0.934214  ,\n",
       "        0.61396596, 0.5356328 , 0.58990998, 0.73012203, 0.311945  ,\n",
       "        0.39822106, 0.20984375],\n",
       "       [0.18619301, 0.94437239, 0.7395508 , 0.49045881, 0.22741463,\n",
       "        0.25435648, 0.05802916, 0.43441663, 0.31179588, 0.69634349,\n",
       "        0.37775184, 0.17960368],\n",
       "       [0.02467873, 0.06724963, 0.67939277, 0.45369684, 0.53657921,\n",
       "        0.89667129, 0.99033895, 0.21689698, 0.6630782 , 0.26332238,\n",
       "        0.020651  , 0.75837865],\n",
       "       [0.32001715, 0.38346389, 0.58831711, 0.83104846, 0.62898184,\n",
       "        0.87265066, 0.27354203, 0.79804683, 0.18563594, 0.95279166,\n",
       "        0.68748828, 0.21550768],\n",
       "       [0.94737059, 0.73085581, 0.25394164, 0.21331198, 0.51820071,\n",
       "        0.02566272, 0.20747008, 0.42468547, 0.37416998, 0.46357542,\n",
       "        0.27762871, 0.58678435]])"
      ]
     },
     "execution_count": 8,
     "metadata": {},
     "output_type": "execute_result"
    },
    {
     "data": {
      "image/png": "[encoded data removed]",
      "text/plain": [
       "<Figure size 432x288 with 2 Axes>"
      ]
     },
     "metadata": {},
     "output_type": "display_data"
    }
   ],
   "source": [
    "uniform_data = np.random.rand(10, 12)\n",
    "ax = sns.heatmap(uniform_data)\n"
   ]
  },
  {
   "cell_type": "code",
   "execution_count": null,
   "id": "terminal-cradle",
   "metadata": {},
   "outputs": [],
   "source": []
  }
 ],
 "metadata": {
  "kernelspec": {
   "display_name": "Python 3",
   "language": "python",
   "name": "python3"
  },
  "language_info": {
   "codemirror_mode": {
    "name": "ipython",
    "version": 3
   },
   "file_extension": ".py",
   "mimetype": "text/x-python",
   "name": "python",
   "nbconvert_exporter": "python",
   "pygments_lexer": "ipython3",
   "version": "3.9.2"
  }
 },
 "nbformat": 4,
 "nbformat_minor": 5
}
