{
 "cells": [
  {
   "cell_type": "code",
   "execution_count": 34,
   "id": "searching-practice",
   "metadata": {},
   "outputs": [],
   "source": [
    "import numpy as np; np.random.seed(0)\n",
    "import seaborn as sns; sns.set_theme()\n",
    "import pandas as pd\n",
    "import matplotlib.pyplot as plt"
   ]
  },
  {
   "cell_type": "code",
   "execution_count": 40,
   "id": "extended-detector",
   "metadata": {},
   "outputs": [
    {
     "data": {
      "text/html": [
       "<div>\n",
       "<style scoped>\n",
       "    .dataframe tbody tr th:only-of-type {\n",
       "        vertical-align: middle;\n",
       "    }\n",
       "\n",
       "    .dataframe tbody tr th {\n",
       "        vertical-align: top;\n",
       "    }\n",
       "\n",
       "    .dataframe thead th {\n",
       "        text-align: right;\n",
       "    }\n",
       "</style>\n",
       "<table border=\"1\" class=\"dataframe\">\n",
       "  <thead>\n",
       "    <tr style=\"text-align: right;\">\n",
       "      <th></th>\n",
       "      <th></th>\n",
       "      <th>cost</th>\n",
       "      <th>strained_edges_cost</th>\n",
       "      <th>travel_cost</th>\n",
       "      <th>travel_delay</th>\n",
       "      <th>sum_path_len</th>\n",
       "    </tr>\n",
       "    <tr>\n",
       "      <th>index</th>\n",
       "      <th>group_index</th>\n",
       "      <th></th>\n",
       "      <th></th>\n",
       "      <th></th>\n",
       "      <th></th>\n",
       "      <th></th>\n",
       "    </tr>\n",
       "  </thead>\n",
       "  <tbody>\n",
       "    <tr>\n",
       "      <th>1</th>\n",
       "      <th>0</th>\n",
       "      <td>246880</td>\n",
       "      <td>142053</td>\n",
       "      <td>46098</td>\n",
       "      <td>58729</td>\n",
       "      <td>46911</td>\n",
       "    </tr>\n",
       "    <tr>\n",
       "      <th>2</th>\n",
       "      <th>0</th>\n",
       "      <td>246901</td>\n",
       "      <td>142053</td>\n",
       "      <td>46103</td>\n",
       "      <td>58745</td>\n",
       "      <td>46912</td>\n",
       "    </tr>\n",
       "    <tr>\n",
       "      <th>3</th>\n",
       "      <th>0</th>\n",
       "      <td>246901</td>\n",
       "      <td>142053</td>\n",
       "      <td>46103</td>\n",
       "      <td>58745</td>\n",
       "      <td>46912</td>\n",
       "    </tr>\n",
       "    <tr>\n",
       "      <th>4</th>\n",
       "      <th>1</th>\n",
       "      <td>246880</td>\n",
       "      <td>142053</td>\n",
       "      <td>46098</td>\n",
       "      <td>58729</td>\n",
       "      <td>46911</td>\n",
       "    </tr>\n",
       "    <tr>\n",
       "      <th>5</th>\n",
       "      <th>1</th>\n",
       "      <td>246901</td>\n",
       "      <td>142053</td>\n",
       "      <td>46103</td>\n",
       "      <td>58745</td>\n",
       "      <td>46912</td>\n",
       "    </tr>\n",
       "    <tr>\n",
       "      <th>...</th>\n",
       "      <th>...</th>\n",
       "      <td>...</td>\n",
       "      <td>...</td>\n",
       "      <td>...</td>\n",
       "      <td>...</td>\n",
       "      <td>...</td>\n",
       "    </tr>\n",
       "    <tr>\n",
       "      <th>139938</th>\n",
       "      <th>1051</th>\n",
       "      <td>246881</td>\n",
       "      <td>142053</td>\n",
       "      <td>46113</td>\n",
       "      <td>58715</td>\n",
       "      <td>46923</td>\n",
       "    </tr>\n",
       "    <tr>\n",
       "      <th>139939</th>\n",
       "      <th>1051</th>\n",
       "      <td>246881</td>\n",
       "      <td>142053</td>\n",
       "      <td>46113</td>\n",
       "      <td>58715</td>\n",
       "      <td>46931</td>\n",
       "    </tr>\n",
       "    <tr>\n",
       "      <th>139940</th>\n",
       "      <th>1051</th>\n",
       "      <td>246881</td>\n",
       "      <td>142053</td>\n",
       "      <td>46113</td>\n",
       "      <td>58715</td>\n",
       "      <td>46930</td>\n",
       "    </tr>\n",
       "    <tr>\n",
       "      <th>139941</th>\n",
       "      <th>1051</th>\n",
       "      <td>246881</td>\n",
       "      <td>142053</td>\n",
       "      <td>46113</td>\n",
       "      <td>58715</td>\n",
       "      <td>46925</td>\n",
       "    </tr>\n",
       "    <tr>\n",
       "      <th>139942</th>\n",
       "      <th>1051</th>\n",
       "      <td>246881</td>\n",
       "      <td>142053</td>\n",
       "      <td>46113</td>\n",
       "      <td>58715</td>\n",
       "      <td>46926</td>\n",
       "    </tr>\n",
       "  </tbody>\n",
       "</table>\n",
       "<p>139942 rows × 5 columns</p>\n",
       "</div>"
      ],
      "text/plain": [
       "                      cost  strained_edges_cost  travel_cost  travel_delay  \\\n",
       "index  group_index                                                           \n",
       "1      0            246880               142053        46098         58729   \n",
       "2      0            246901               142053        46103         58745   \n",
       "3      0            246901               142053        46103         58745   \n",
       "4      1            246880               142053        46098         58729   \n",
       "5      1            246901               142053        46103         58745   \n",
       "...                    ...                  ...          ...           ...   \n",
       "139938 1051         246881               142053        46113         58715   \n",
       "139939 1051         246881               142053        46113         58715   \n",
       "139940 1051         246881               142053        46113         58715   \n",
       "139941 1051         246881               142053        46113         58715   \n",
       "139942 1051         246881               142053        46113         58715   \n",
       "\n",
       "                    sum_path_len  \n",
       "index  group_index                \n",
       "1      0                   46911  \n",
       "2      0                   46912  \n",
       "3      0                   46912  \n",
       "4      1                   46911  \n",
       "5      1                   46912  \n",
       "...                          ...  \n",
       "139938 1051                46923  \n",
       "139939 1051                46931  \n",
       "139940 1051                46930  \n",
       "139941 1051                46925  \n",
       "139942 1051                46926  \n",
       "\n",
       "[139942 rows x 5 columns]"
      ]
     },
     "execution_count": 40,
     "metadata": {},
     "output_type": "execute_result"
    }
   ],
   "source": [
    "df = pd.read_csv(\"iteration_0.csv\", index_col=['index', 'group_index'])\n",
    "df = df.iloc[1:]\n",
    "df"
   ]
  },
  {
   "cell_type": "code",
   "execution_count": 52,
   "id": "following-window",
   "metadata": {},
   "outputs": [
    {
     "data": {
      "text/plain": [
       "[]"
      ]
     },
     "execution_count": 52,
     "metadata": {},
     "output_type": "execute_result"
    },
    {
     "data": {
      "image/png": "[encoded data removed]",
      "text/plain": [
       "<Figure size 1152x432 with 1 Axes>"
      ]
     },
     "metadata": {},
     "output_type": "display_data"
    }
   ],
   "source": [
    "plt.figure(figsize=(16, 9))\n",
    "# df.plot(y='cost', figsize=(16, 9))\n",
    "\n",
    "#\n",
    "sns.histplot(df, x='index', y='travel_cost', binwidth=5).plot()"
   ]
  },
  {
   "cell_type": "code",
   "execution_count": 16,
   "id": "opened-coordination",
   "metadata": {},
   "outputs": [
    {
     "data": {
      "image/png": "[encoded data removed]",
      "text/plain": [
       "<Figure size 432x288 with 1 Axes>"
      ]
     },
     "metadata": {},
     "output_type": "display_data"
    }
   ],
   "source": [
    "plots = list()\n",
    "for i in range(0, 1):\n",
    "    df = pd.read_csv(\"iteration_{}.csv\".format(i))\n",
    "    sns.histplot(df, x='cost', binwidth=10, log_scale=(False, True)).plot()\n"
   ]
  },
  {
   "cell_type": "code",
   "execution_count": 8,
   "id": "surprised-binding",
   "metadata": {},
   "outputs": [
    {
     "data": {
      "text/plain": [
       "array([[0.72525428, 0.50132438, 0.95608363, 0.6439902 , 0.42385505,\n",
       "        0.60639321, 0.0191932 , 0.30157482, 0.66017354, 0.29007761,\n",
       "        0.61801543, 0.4287687 ],\n",
       "       [0.13547406, 0.29828233, 0.56996491, 0.59087276, 0.57432525,\n",
       "        0.65320082, 0.65210327, 0.43141844, 0.8965466 , 0.36756187,\n",
       "        0.43586493, 0.89192336],\n",
       "       [0.80619399, 0.70388858, 0.10022689, 0.91948261, 0.7142413 ,\n",
       "        0.99884701, 0.1494483 , 0.86812606, 0.16249293, 0.61555956,\n",
       "        0.12381998, 0.84800823],\n",
       "       [0.80731896, 0.56910074, 0.4071833 , 0.069167  , 0.69742877,\n",
       "        0.45354268, 0.7220556 , 0.86638233, 0.97552151, 0.85580334,\n",
       "        0.01171408, 0.35997806],\n",
       "       [0.72999056, 0.17162968, 0.52103661, 0.05433799, 0.19999652,\n",
       "        0.01852179, 0.7936977 , 0.22392469, 0.34535168, 0.92808129,\n",
       "        0.7044144 , 0.03183893],\n",
       "       [0.16469416, 0.6214784 , 0.57722859, 0.23789282, 0.934214  ,\n",
       "        0.61396596, 0.5356328 , 0.58990998, 0.73012203, 0.311945  ,\n",
       "        0.39822106, 0.20984375],\n",
       "       [0.18619301, 0.94437239, 0.7395508 , 0.49045881, 0.22741463,\n",
       "        0.25435648, 0.05802916, 0.43441663, 0.31179588, 0.69634349,\n",
       "        0.37775184, 0.17960368],\n",
       "       [0.02467873, 0.06724963, 0.67939277, 0.45369684, 0.53657921,\n",
       "        0.89667129, 0.99033895, 0.21689698, 0.6630782 , 0.26332238,\n",
       "        0.020651  , 0.75837865],\n",
       "       [0.32001715, 0.38346389, 0.58831711, 0.83104846, 0.62898184,\n",
       "        0.87265066, 0.27354203, 0.79804683, 0.18563594, 0.95279166,\n",
       "        0.68748828, 0.21550768],\n",
       "       [0.94737059, 0.73085581, 0.25394164, 0.21331198, 0.51820071,\n",
       "        0.02566272, 0.20747008, 0.42468547, 0.37416998, 0.46357542,\n",
       "        0.27762871, 0.58678435]])"
      ]
     },
     "execution_count": 8,
     "metadata": {},
     "output_type": "execute_result"
    },
    {
     "data": {
      "image/png": "[encoded data removed]",
      "text/plain": [
       "<Figure size 432x288 with 2 Axes>"
      ]
     },
     "metadata": {},
     "output_type": "display_data"
    }
   ],
   "source": [
    "uniform_data = np.random.rand(10, 12)\n",
    "ax = sns.heatmap(uniform_data)\n"
   ]
  },
  {
   "cell_type": "code",
   "execution_count": null,
   "id": "terminal-cradle",
   "metadata": {},
   "outputs": [],
   "source": []
  }
 ],
 "metadata": {
  "kernelspec": {
   "display_name": "Python 3",
   "language": "python",
   "name": "python3"
  },
  "language_info": {
   "codemirror_mode": {
    "name": "ipython",
    "version": 3
   },
   "file_extension": ".py",
   "mimetype": "text/x-python",
   "name": "python",
   "nbconvert_exporter": "python",
   "pygments_lexer": "ipython3",
   "version": "3.9.2"
  }
 },
 "nbformat": 4,
 "nbformat_minor": 5
}
